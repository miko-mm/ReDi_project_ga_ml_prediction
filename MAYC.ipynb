{
  "nbformat": 4,
  "nbformat_minor": 0,
  "metadata": {
    "colab": {
      "name": "MAYC.ipynb",
      "provenance": [],
      "collapsed_sections": [
        "3PYo75iLABm-",
        "TULllGh0uVlw"
      ],
      "toc_visible": true,
      "mount_file_id": "1RhFq44H0GeTCpW6wtU4pBPTtXlFSYRkR",
      "authorship_tag": "ABX9TyOPAz9Q8qPvtR/k7ehjSL49",
      "include_colab_link": true
    },
    "kernelspec": {
      "name": "python3",
      "display_name": "Python 3"
    }
  },
  "cells": [
    {
      "cell_type": "markdown",
      "metadata": {
        "id": "view-in-github",
        "colab_type": "text"
      },
      "source": [
        "<a href=\"https://colab.research.google.com/github/miko-mm/ReDi_project_ga_ml_prediction/blob/develop/MAYC.ipynb\" target=\"_parent\"><img src=\"https://colab.research.google.com/assets/colab-badge.svg\" alt=\"Open In Colab\"/></a>"
      ]
    },
    {
      "cell_type": "markdown",
      "metadata": {
        "id": "3PYo75iLABm-",
        "colab_type": "text"
      },
      "source": [
        "# Kaggle connection not needed anymore\n",
        "\\"
      ]
    },
    {
      "cell_type": "code",
      "metadata": {
        "id": "66z845kRFHuo",
        "colab_type": "code",
        "colab": {}
      },
      "source": [
        "# Kaggle\n",
        "!pip install -q kaggle\n",
        "\n",
        "# Kaggle token\n",
        "from google.colab import files\n",
        "files.upload() "
      ],
      "execution_count": 0,
      "outputs": []
    },
    {
      "cell_type": "code",
      "metadata": {
        "id": "X3FtsZBUFZ96",
        "colab_type": "code",
        "colab": {}
      },
      "source": [
        "! mkdir ~/.kaggle"
      ],
      "execution_count": 0,
      "outputs": []
    },
    {
      "cell_type": "code",
      "metadata": {
        "id": "Uanh12DX8Ezw",
        "colab_type": "code",
        "outputId": "a27e7ace-8e3c-4cf5-e985-872477e34cc9",
        "colab": {
          "base_uri": "https://localhost:8080/",
          "height": 34
        }
      },
      "source": [
        "! cp kaggle.json ~/.kaggle/\n",
        "!ls ~/.kaggle"
      ],
      "execution_count": 0,
      "outputs": [
        {
          "output_type": "stream",
          "text": [
            "kaggle.json\n"
          ],
          "name": "stdout"
        }
      ]
    },
    {
      "cell_type": "code",
      "metadata": {
        "id": "I_bXoqjs8YQv",
        "colab_type": "code",
        "colab": {}
      },
      "source": [
        "!chmod 600 /root/.kaggle/kaggle.json"
      ],
      "execution_count": 0,
      "outputs": []
    },
    {
      "cell_type": "code",
      "metadata": {
        "id": "UpnNhINr8cfA",
        "colab_type": "code",
        "outputId": "73124aff-4da1-42bc-93a5-6afc6c35e2ed",
        "colab": {
          "base_uri": "https://localhost:8080/",
          "height": 367
        }
      },
      "source": [
        "!kaggle competitions download -c ga-customer-revenue-prediction -p /content/gdrive/My\\ Drive/DataScience/DataAnalyticsWithPython_ReDi/Project/ga_customer-revenue-prediction"
      ],
      "execution_count": 0,
      "outputs": [
        {
          "output_type": "stream",
          "text": [
            "Warning: Looks like you're using an outdated API Version, please consider updating (server 1.5.6 / client 1.5.4)\n",
            "Downloading sample_submission_v2.csv.zip to /content/gdrive/My Drive/DataScience/DataAnalyticsWithPython_ReDi/Project/ga_customer-revenue-prediction\n",
            "  0% 0.00/2.55M [00:00<?, ?B/s]\n",
            "100% 2.55M/2.55M [00:00<00:00, 83.1MB/s]\n",
            "Downloading test.csv.zip to /content/gdrive/My Drive/DataScience/DataAnalyticsWithPython_ReDi/Project/ga_customer-revenue-prediction\n",
            " 90% 51.0M/56.8M [00:01<00:00, 26.4MB/s]\n",
            "100% 56.8M/56.8M [00:01<00:00, 31.9MB/s]\n",
            "Downloading train.csv.zip to /content/gdrive/My Drive/DataScience/DataAnalyticsWithPython_ReDi/Project/ga_customer-revenue-prediction\n",
            " 93% 57.0M/61.1M [00:01<00:00, 30.1MB/s]\n",
            "100% 61.1M/61.1M [00:01<00:00, 39.6MB/s]\n",
            "Downloading train_v2.csv.zip to /content/gdrive/My Drive/DataScience/DataAnalyticsWithPython_ReDi/Project/ga_customer-revenue-prediction\n",
            " 99% 1.10G/1.11G [00:25<00:00, 34.2MB/s]\n",
            "100% 1.11G/1.11G [00:25<00:00, 46.7MB/s]\n",
            "Downloading sample_submission.csv.zip to /content/gdrive/My Drive/DataScience/DataAnalyticsWithPython_ReDi/Project/ga_customer-revenue-prediction\n",
            " 96% 5.00M/5.23M [00:00<00:00, 10.8MB/s]\n",
            "100% 5.23M/5.23M [00:00<00:00, 10.7MB/s]\n",
            "Downloading test_v2.csv.zip to /content/gdrive/My Drive/DataScience/DataAnalyticsWithPython_ReDi/Project/ga_customer-revenue-prediction\n",
            " 99% 329M/333M [00:11<00:00, 22.5MB/s]\n",
            "100% 333M/333M [00:12<00:00, 29.1MB/s]\n"
          ],
          "name": "stdout"
        }
      ]
    },
    {
      "cell_type": "code",
      "metadata": {
        "id": "oMGWjCqNHtBC",
        "colab_type": "code",
        "outputId": "a8f235ae-9eeb-48e3-e73e-4d535ec85552",
        "colab": {
          "base_uri": "https://localhost:8080/",
          "height": 55
        }
      },
      "source": [
        "cd '/content/gdrive/My Drive/DataScience/DataAnalyticsWithPython_ReDi/Project/ga_customer-revenue-prediction/preprocessed_V2/unzipped/'"
      ],
      "execution_count": 0,
      "outputs": [
        {
          "output_type": "stream",
          "text": [
            "/content/gdrive/My Drive/DataScience/DataAnalyticsWithPython_ReDi/Project/ga_customer-revenue-prediction/preprocessed_V2/unzipped\n"
          ],
          "name": "stdout"
        }
      ]
    },
    {
      "cell_type": "code",
      "metadata": {
        "id": "glmgJxUmGknv",
        "colab_type": "code",
        "outputId": "b47842da-4b92-4a16-af8e-467d467be166",
        "colab": {
          "base_uri": "https://localhost:8080/",
          "height": 105
        }
      },
      "source": [
        "ls -alFh"
      ],
      "execution_count": 0,
      "outputs": [
        {
          "output_type": "stream",
          "text": [
            "total 3.1G\n",
            "-rw------- 1 root root 372M May  3 23:11 test_flat_no_hits.pkl\n",
            "-rw------- 1 root root 208M May  4 08:56 test_hits_flat.pkl\n",
            "-rw------- 1 root root 1.6G May  3 14:21 train_flat_no_hits.pkl\n",
            "-rw------- 1 root root 925M May  4 08:58 train_hits_flat.pkl\n"
          ],
          "name": "stdout"
        }
      ]
    },
    {
      "cell_type": "code",
      "metadata": {
        "id": "pG-J76beHTPm",
        "colab_type": "code",
        "outputId": "c3584ded-7ad0-418b-bf94-77588ce1526a",
        "colab": {
          "base_uri": "https://localhost:8080/",
          "height": 191
        }
      },
      "source": [
        "!unzip preprocessed_ga_revenue_data_V2.zip"
      ],
      "execution_count": 0,
      "outputs": [
        {
          "output_type": "stream",
          "text": [
            "Archive:  preprocessed_ga_revenue_data_V2.zip\n",
            "   creating: preprocessed_ga_revenue_data/\n",
            "  inflating: preprocessed_ga_revenue_data/train_flat_no_hits.pkl  \n",
            "  inflating: __MACOSX/preprocessed_ga_revenue_data/._train_flat_no_hits.pkl  \n",
            "  inflating: preprocessed_ga_revenue_data/test_flat_no_hits.pkl  \n",
            "  inflating: __MACOSX/preprocessed_ga_revenue_data/._test_flat_no_hits.pkl  \n",
            "  inflating: preprocessed_ga_revenue_data/train_hits_flat.pkl  \n",
            "  inflating: __MACOSX/preprocessed_ga_revenue_data/._train_hits_flat.pkl  \n",
            "  inflating: preprocessed_ga_revenue_data/test_hits_flat.pkl  \n",
            "  inflating: __MACOSX/preprocessed_ga_revenue_data/._test_hits_flat.pkl  \n"
          ],
          "name": "stdout"
        }
      ]
    },
    {
      "cell_type": "markdown",
      "metadata": {
        "id": "aMJBVgfZE2C2",
        "colab_type": "text"
      },
      "source": [
        "# Importing data from gdrive"
      ]
    },
    {
      "cell_type": "code",
      "metadata": {
        "id": "57CymKKY46KP",
        "colab_type": "code",
        "colab": {}
      },
      "source": [
        "# download the libraries\n",
        "import pandas as pd\n",
        "import warnings\n",
        "warnings.filterwarnings('ignore')\n",
        "#!pip3 install --upgrade seaborn cufflinks plotly\n",
        "import numpy as np\n",
        "import matplotlib.pyplot as plt\n",
        "import seaborn as sns\n",
        "from datetime import datetime\n",
        "%matplotlib inline\n",
        "import ast\n",
        "import json\n",
        "from pandas.io.json import json_normalize"
      ],
      "execution_count": 0,
      "outputs": []
    },
    {
      "cell_type": "code",
      "metadata": {
        "id": "ZRLB6cBs9jz5",
        "colab_type": "code",
        "outputId": "9a19eaac-fad4-492b-c17c-2ca5dd156534",
        "colab": {
          "base_uri": "https://localhost:8080/",
          "height": 35
        }
      },
      "source": [
        "#Mount the Google Drive to Google Colab\n",
        "#1. get the library\n",
        "from google.colab import drive\n",
        "drive.mount('/content/drive')"
      ],
      "execution_count": 2,
      "outputs": [
        {
          "output_type": "stream",
          "text": [
            "Drive already mounted at /content/drive; to attempt to forcibly remount, call drive.mount(\"/content/drive\", force_remount=True).\n"
          ],
          "name": "stdout"
        }
      ]
    },
    {
      "cell_type": "markdown",
      "metadata": {
        "id": "yAmp2xch3J3L",
        "colab_type": "text"
      },
      "source": [
        "## DATA v2 pkl 5 GB DataSet"
      ]
    },
    {
      "cell_type": "code",
      "metadata": {
        "id": "vsW-sJ5HB7Cd",
        "colab_type": "code",
        "outputId": "48780adb-ff44-454a-d77d-0cc027f30efe",
        "colab": {
          "base_uri": "https://localhost:8080/",
          "height": 130
        }
      },
      "source": [
        "root_path = 'drive/My Drive/DataScience/DataAnalyticsWithPython_ReDi/Project/ga_customer-revenue-prediction/'\n",
        "cd '/content/drive/My Drive/DataScience/DataAnalyticsWithPython_ReDi/Project/ga_customer-revenue-prediction/preprocessed_V2/unzipped/'"
      ],
      "execution_count": 3,
      "outputs": [
        {
          "output_type": "error",
          "ename": "SyntaxError",
          "evalue": "ignored",
          "traceback": [
            "\u001b[0;36m  File \u001b[0;32m\"<ipython-input-3-04e491ad3d6f>\"\u001b[0;36m, line \u001b[0;32m2\u001b[0m\n\u001b[0;31m    cd '/content/drive/My Drive/DataScience/DataAnalyticsWithPython_ReDi/Project/ga_customer-revenue-prediction/preprocessed_V2/unzipped/'\u001b[0m\n\u001b[0m                                                                                                                                         ^\u001b[0m\n\u001b[0;31mSyntaxError\u001b[0m\u001b[0;31m:\u001b[0m invalid syntax\n"
          ]
        }
      ]
    },
    {
      "cell_type": "code",
      "metadata": {
        "id": "Gco0XcXuI1O3",
        "colab_type": "code",
        "outputId": "64a5bd4f-7ece-4b86-c5fb-8f7913caad36",
        "colab": {
          "base_uri": "https://localhost:8080/",
          "height": 34
        }
      },
      "source": [
        "pwd"
      ],
      "execution_count": 4,
      "outputs": [
        {
          "output_type": "execute_result",
          "data": {
            "text/plain": [
              "'/content'"
            ]
          },
          "metadata": {
            "tags": []
          },
          "execution_count": 4
        }
      ]
    },
    {
      "cell_type": "code",
      "metadata": {
        "id": "9zx0pZKnEfwI",
        "colab_type": "code",
        "outputId": "091c94fa-092d-45d2-cadd-5e0953fba7d6",
        "colab": {
          "base_uri": "https://localhost:8080/",
          "height": 121
        }
      },
      "source": [
        "ls -alFh"
      ],
      "execution_count": 5,
      "outputs": [
        {
          "output_type": "stream",
          "text": [
            "total 20K\n",
            "drwxr-xr-x 1 root root 4.0K May 19 17:53 \u001b[0m\u001b[01;34m.\u001b[0m/\n",
            "drwxr-xr-x 1 root root 4.0K May 19 17:50 \u001b[01;34m..\u001b[0m/\n",
            "drwxr-xr-x 1 root root 4.0K May 18 16:14 \u001b[01;34m.config\u001b[0m/\n",
            "drwx------ 3 root root 4.0K May 19 17:53 \u001b[01;34mdrive\u001b[0m/\n",
            "drwxr-xr-x 1 root root 4.0K May 13 16:29 \u001b[01;34msample_data\u001b[0m/\n"
          ],
          "name": "stdout"
        }
      ]
    },
    {
      "cell_type": "code",
      "metadata": {
        "id": "ey73bHcIj6Mw",
        "colab_type": "code",
        "colab": {}
      },
      "source": [
        "# load training data set info a df\n",
        "df_train=pd.read_pickle(filepath_or_buffer='/content/gdrive/My Drive/DataScience/DataAnalyticsWithPython_ReDi/Project/ga_customer-revenue-prediction/preprocessed_V2/unzipped/train_flat_no_hits.pkl')"
      ],
      "execution_count": 0,
      "outputs": []
    },
    {
      "cell_type": "code",
      "metadata": {
        "id": "1Dh7vAJ_FLND",
        "colab_type": "code",
        "colab": {}
      },
      "source": [
        "del df_train"
      ],
      "execution_count": 0,
      "outputs": []
    },
    {
      "cell_type": "markdown",
      "metadata": {
        "id": "phiHC3lk3SQZ",
        "colab_type": "text"
      },
      "source": [
        "## DATA v1 csv x GB smaller "
      ]
    },
    {
      "cell_type": "code",
      "metadata": {
        "id": "hTmNv9OXqbzQ",
        "colab_type": "code",
        "outputId": "8cc4311c-6fb9-4105-9e8f-233a0d3ff173",
        "colab": {
          "base_uri": "https://localhost:8080/",
          "height": 35
        }
      },
      "source": [
        "ls"
      ],
      "execution_count": 5,
      "outputs": [
        {
          "output_type": "stream",
          "text": [
            "\u001b[0m\u001b[01;34mdrive\u001b[0m/  \u001b[01;34msample_data\u001b[0m/\n"
          ],
          "name": "stdout"
        }
      ]
    },
    {
      "cell_type": "code",
      "metadata": {
        "id": "gl5LtkR6qXm7",
        "colab_type": "code",
        "outputId": "f67b6d49-a87a-4df6-c578-ea525f751562",
        "colab": {
          "base_uri": "https://localhost:8080/",
          "height": 35
        }
      },
      "source": [
        "cd /content/drive/My\\ Drive/DataScience/DataAnalyticsWithPython_ReDi/Project/ga_customer-revenue-prediction/unzipped_V1/"
      ],
      "execution_count": 6,
      "outputs": [
        {
          "output_type": "stream",
          "text": [
            "/content/drive/My Drive/DataScience/DataAnalyticsWithPython_ReDi/Project/ga_customer-revenue-prediction/unzipped_V1\n"
          ],
          "name": "stdout"
        }
      ]
    },
    {
      "cell_type": "code",
      "metadata": {
        "id": "gWHTZ_C93RWl",
        "colab_type": "code",
        "colab": {}
      },
      "source": [
        "root_path = 'drive/My Drive/DataScience/DataAnalyticsWithPython_ReDi/Project/ga_customer-revenue-prediction/unzipped_V1/'"
      ],
      "execution_count": 0,
      "outputs": []
    },
    {
      "cell_type": "code",
      "metadata": {
        "id": "4Bd0YsPU7D5j",
        "colab_type": "code",
        "colab": {}
      },
      "source": [
        "# Data set has some columns in JSON format, need to be converted before (look below) \n",
        "df_train=pd.read_csv(filepath_or_buffer='/content/drive/My Drive/DataScience/DataAnalyticsWithPython_ReDi/Project/ga_customer-revenue-prediction/unzipped_V1/train.csv')"
      ],
      "execution_count": 0,
      "outputs": []
    },
    {
      "cell_type": "markdown",
      "metadata": {
        "id": "Zt_cFgHbNnw1",
        "colab_type": "text"
      },
      "source": [
        "## Separating JSON written columns\n"
      ]
    },
    {
      "cell_type": "markdown",
      "metadata": {
        "id": "0tb5Crv-p1-b",
        "colab_type": "text"
      },
      "source": [
        "JSON objects here are 'records' : list like [{column -> value}, ... , {column -> value}]\n",
        "N{\"browser\": \"Chrome\", \"browserVersion\": \"not a...\n",
        "---\n",
        "\n",
        "\n",
        "https://kanoki.org/2019/12/12/how-to-work-with-json-in-pandas/"
      ]
    },
    {
      "cell_type": "code",
      "metadata": {
        "id": "nPoxwZNveXjg",
        "colab_type": "code",
        "colab": {}
      },
      "source": [
        "# None of them works\n",
        "\n",
        "df_device_test = pd.read_json(df_train.device, orient='records')\n",
        "# df_device_test = pd.DataFrame.from_dict(a_json, orient='index')\n",
        "# a_json = json.loads(df_train.device)\n",
        "# df_device_test=pd.DataFrame.from_dict(a_json, orient='index')\n",
        "# df_device_test=pd.io.json.json_normalize(df_train.device[0])\n",
        "# df_device_test=pd.io.json.json_normalize(df_train.device.apply(json.loads))\n",
        "# df_device_test = pd.concat({k: pd.DataFrame(ast.literal_eval(v)) for k, v in df_train['device'].items()})\n",
        "df_device_test"
      ],
      "execution_count": 0,
      "outputs": []
    },
    {
      "cell_type": "code",
      "metadata": {
        "id": "YGUvHsSJop60",
        "colab_type": "code",
        "colab": {}
      },
      "source": [
        "ORIGINAL \n",
        "# j_columns = ['device', 'geoNetwork', 'totals', 'trafficSource'] # Columns that have json format\n",
        "# #Code to transform the json format columns in table\n",
        "# def json_to_load(data_Ml):\n",
        "#     data_Ml = pd.read_csv('trainML.csv',converters={column: json.loads for column in j_columns})\n",
        "#     for column in j_columns:\n",
        "#         df_j_columns = json_normalize(data_Ml[column])\n",
        "#         # here will be set the name using the category and subcategory of json columns\n",
        "#         df_j_columns.columns = [f\"{column}.{subcolumn}\" for subcolumn in df_j_columns.columns]\n",
        "#         #let drop the original columns\n",
        "#         data_Ml = data_Ml.drop(column, axis=1).merge(df_j_columns,right_index=True, left_index=True)\n",
        "#     return data_Ml"
      ],
      "execution_count": 0,
      "outputs": []
    },
    {
      "cell_type": "code",
      "metadata": {
        "id": "dDq5WjWu8mTz",
        "colab_type": "code",
        "colab": {}
      },
      "source": [
        "# Read and convert json columns into \n",
        "\n",
        "# Columns that have json format\n",
        "j_columns = ['device', 'geoNetwork', 'totals', 'trafficSource'] \n",
        "# Code to transform the json format columns in table\n",
        "def json_to_load(df_temp_col_json):\n",
        "    df_temp_col_json = pd.read_csv('train.csv',converters={column: json.loads for column in j_columns})\n",
        "    for column in j_columns:\n",
        "        df_j_columns = json_normalize(df_temp_col_json[column])\n",
        "        # here will be set the name using the category and subcategory of json columns\n",
        "        df_j_columns.columns = [f\"{column}.{subcolumn}\" for subcolumn in df_j_columns.columns]\n",
        "        #let drop the original columns\n",
        "        df_temp_col_json = df_temp_col_json.drop(column, axis=1).merge(df_j_columns,right_index=True, left_index=True)\n",
        "    return df_temp_col_json"
      ],
      "execution_count": 0,
      "outputs": []
    },
    {
      "cell_type": "code",
      "metadata": {
        "id": "htVDTayba6i9",
        "colab_type": "code",
        "colab": {}
      },
      "source": [
        "del df_train"
      ],
      "execution_count": 0,
      "outputs": []
    },
    {
      "cell_type": "code",
      "metadata": {
        "id": "_eG66ppak4W0",
        "colab_type": "code",
        "colab": {}
      },
      "source": [
        "df_train = json_to_load('train.csv')"
      ],
      "execution_count": 0,
      "outputs": []
    },
    {
      "cell_type": "code",
      "metadata": {
        "id": "UgLYue4ajLBb",
        "colab_type": "code",
        "outputId": "42143dee-a5cc-4ca4-f3b1-3e88951f5bdf",
        "colab": {
          "base_uri": "https://localhost:8080/",
          "height": 1000
        }
      },
      "source": [
        "df_train.info()"
      ],
      "execution_count": 15,
      "outputs": [
        {
          "output_type": "stream",
          "text": [
            "<class 'pandas.core.frame.DataFrame'>\n",
            "RangeIndex: 903653 entries, 0 to 903652\n",
            "Data columns (total 55 columns):\n",
            " #   Column                                             Non-Null Count   Dtype \n",
            "---  ------                                             --------------   ----- \n",
            " 0   channelGrouping                                    903653 non-null  object\n",
            " 1   date                                               903653 non-null  int64 \n",
            " 2   fullVisitorId                                      903653 non-null  object\n",
            " 3   sessionId                                          903653 non-null  object\n",
            " 4   socialEngagementType                               903653 non-null  object\n",
            " 5   visitId                                            903653 non-null  int64 \n",
            " 6   visitNumber                                        903653 non-null  int64 \n",
            " 7   visitStartTime                                     903653 non-null  int64 \n",
            " 8   device.browser                                     903653 non-null  object\n",
            " 9   device.browserVersion                              903653 non-null  object\n",
            " 10  device.browserSize                                 903653 non-null  object\n",
            " 11  device.operatingSystem                             903653 non-null  object\n",
            " 12  device.operatingSystemVersion                      903653 non-null  object\n",
            " 13  device.isMobile                                    903653 non-null  bool  \n",
            " 14  device.mobileDeviceBranding                        903653 non-null  object\n",
            " 15  device.mobileDeviceModel                           903653 non-null  object\n",
            " 16  device.mobileInputSelector                         903653 non-null  object\n",
            " 17  device.mobileDeviceInfo                            903653 non-null  object\n",
            " 18  device.mobileDeviceMarketingName                   903653 non-null  object\n",
            " 19  device.flashVersion                                903653 non-null  object\n",
            " 20  device.language                                    903653 non-null  object\n",
            " 21  device.screenColors                                903653 non-null  object\n",
            " 22  device.screenResolution                            903653 non-null  object\n",
            " 23  device.deviceCategory                              903653 non-null  object\n",
            " 24  geoNetwork.continent                               903653 non-null  object\n",
            " 25  geoNetwork.subContinent                            903653 non-null  object\n",
            " 26  geoNetwork.country                                 903653 non-null  object\n",
            " 27  geoNetwork.region                                  903653 non-null  object\n",
            " 28  geoNetwork.metro                                   903653 non-null  object\n",
            " 29  geoNetwork.city                                    903653 non-null  object\n",
            " 30  geoNetwork.cityId                                  903653 non-null  object\n",
            " 31  geoNetwork.networkDomain                           903653 non-null  object\n",
            " 32  geoNetwork.latitude                                903653 non-null  object\n",
            " 33  geoNetwork.longitude                               903653 non-null  object\n",
            " 34  geoNetwork.networkLocation                         903653 non-null  object\n",
            " 35  totals.visits                                      903653 non-null  object\n",
            " 36  totals.hits                                        903653 non-null  object\n",
            " 37  totals.pageviews                                   903553 non-null  object\n",
            " 38  totals.bounces                                     450630 non-null  object\n",
            " 39  totals.newVisits                                   703060 non-null  object\n",
            " 40  totals.transactionRevenue                          11515 non-null   object\n",
            " 41  trafficSource.campaign                             903653 non-null  object\n",
            " 42  trafficSource.source                               903653 non-null  object\n",
            " 43  trafficSource.medium                               903653 non-null  object\n",
            " 44  trafficSource.keyword                              400724 non-null  object\n",
            " 45  trafficSource.adwordsClickInfo.criteriaParameters  903653 non-null  object\n",
            " 46  trafficSource.isTrueDirect                         274005 non-null  object\n",
            " 47  trafficSource.referralPath                         330941 non-null  object\n",
            " 48  trafficSource.adwordsClickInfo.page                21460 non-null   object\n",
            " 49  trafficSource.adwordsClickInfo.slot                21460 non-null   object\n",
            " 50  trafficSource.adwordsClickInfo.gclId               21561 non-null   object\n",
            " 51  trafficSource.adwordsClickInfo.adNetworkType       21460 non-null   object\n",
            " 52  trafficSource.adwordsClickInfo.isVideoAd           21460 non-null   object\n",
            " 53  trafficSource.adContent                            10946 non-null   object\n",
            " 54  trafficSource.campaignCode                         1 non-null       object\n",
            "dtypes: bool(1), int64(4), object(50)\n",
            "memory usage: 373.2+ MB\n"
          ],
          "name": "stdout"
        }
      ]
    },
    {
      "cell_type": "code",
      "metadata": {
        "id": "O7z2zs60hZ3g",
        "colab_type": "code",
        "outputId": "e7f0950b-fa75-4bda-cbb0-a18cb3c158c9",
        "colab": {
          "base_uri": "https://localhost:8080/",
          "height": 313
        }
      },
      "source": [
        "df_train.head()"
      ],
      "execution_count": 19,
      "outputs": [
        {
          "output_type": "execute_result",
          "data": {
            "text/html": [
              "<div>\n",
              "<style scoped>\n",
              "    .dataframe tbody tr th:only-of-type {\n",
              "        vertical-align: middle;\n",
              "    }\n",
              "\n",
              "    .dataframe tbody tr th {\n",
              "        vertical-align: top;\n",
              "    }\n",
              "\n",
              "    .dataframe thead th {\n",
              "        text-align: right;\n",
              "    }\n",
              "</style>\n",
              "<table border=\"1\" class=\"dataframe\">\n",
              "  <thead>\n",
              "    <tr style=\"text-align: right;\">\n",
              "      <th></th>\n",
              "      <th>channelGrouping</th>\n",
              "      <th>date</th>\n",
              "      <th>fullVisitorId</th>\n",
              "      <th>sessionId</th>\n",
              "      <th>socialEngagementType</th>\n",
              "      <th>visitId</th>\n",
              "      <th>visitNumber</th>\n",
              "      <th>visitStartTime</th>\n",
              "      <th>device.browser</th>\n",
              "      <th>device.browserVersion</th>\n",
              "      <th>device.browserSize</th>\n",
              "      <th>device.operatingSystem</th>\n",
              "      <th>device.operatingSystemVersion</th>\n",
              "      <th>device.isMobile</th>\n",
              "      <th>device.mobileDeviceBranding</th>\n",
              "      <th>device.mobileDeviceModel</th>\n",
              "      <th>device.mobileInputSelector</th>\n",
              "      <th>device.mobileDeviceInfo</th>\n",
              "      <th>device.mobileDeviceMarketingName</th>\n",
              "      <th>device.flashVersion</th>\n",
              "      <th>device.language</th>\n",
              "      <th>device.screenColors</th>\n",
              "      <th>device.screenResolution</th>\n",
              "      <th>device.deviceCategory</th>\n",
              "      <th>geoNetwork.continent</th>\n",
              "      <th>geoNetwork.subContinent</th>\n",
              "      <th>geoNetwork.country</th>\n",
              "      <th>geoNetwork.region</th>\n",
              "      <th>geoNetwork.metro</th>\n",
              "      <th>geoNetwork.city</th>\n",
              "      <th>geoNetwork.cityId</th>\n",
              "      <th>geoNetwork.networkDomain</th>\n",
              "      <th>geoNetwork.latitude</th>\n",
              "      <th>geoNetwork.longitude</th>\n",
              "      <th>geoNetwork.networkLocation</th>\n",
              "      <th>totals.visits</th>\n",
              "      <th>totals.hits</th>\n",
              "      <th>totals.pageviews</th>\n",
              "      <th>totals.bounces</th>\n",
              "      <th>totals.newVisits</th>\n",
              "      <th>totals.transactionRevenue</th>\n",
              "      <th>trafficSource.campaign</th>\n",
              "      <th>trafficSource.source</th>\n",
              "      <th>trafficSource.medium</th>\n",
              "      <th>trafficSource.keyword</th>\n",
              "      <th>trafficSource.adwordsClickInfo.criteriaParameters</th>\n",
              "      <th>trafficSource.isTrueDirect</th>\n",
              "      <th>trafficSource.referralPath</th>\n",
              "      <th>trafficSource.adwordsClickInfo.page</th>\n",
              "      <th>trafficSource.adwordsClickInfo.slot</th>\n",
              "      <th>trafficSource.adwordsClickInfo.gclId</th>\n",
              "      <th>trafficSource.adwordsClickInfo.adNetworkType</th>\n",
              "      <th>trafficSource.adwordsClickInfo.isVideoAd</th>\n",
              "      <th>trafficSource.adContent</th>\n",
              "      <th>trafficSource.campaignCode</th>\n",
              "    </tr>\n",
              "  </thead>\n",
              "  <tbody>\n",
              "    <tr>\n",
              "      <th>0</th>\n",
              "      <td>Organic Search</td>\n",
              "      <td>20160902</td>\n",
              "      <td>1131660440785968503</td>\n",
              "      <td>1131660440785968503_1472830385</td>\n",
              "      <td>Not Socially Engaged</td>\n",
              "      <td>1472830385</td>\n",
              "      <td>1</td>\n",
              "      <td>1472830385</td>\n",
              "      <td>Chrome</td>\n",
              "      <td>not available in demo dataset</td>\n",
              "      <td>not available in demo dataset</td>\n",
              "      <td>Windows</td>\n",
              "      <td>not available in demo dataset</td>\n",
              "      <td>False</td>\n",
              "      <td>not available in demo dataset</td>\n",
              "      <td>not available in demo dataset</td>\n",
              "      <td>not available in demo dataset</td>\n",
              "      <td>not available in demo dataset</td>\n",
              "      <td>not available in demo dataset</td>\n",
              "      <td>not available in demo dataset</td>\n",
              "      <td>not available in demo dataset</td>\n",
              "      <td>not available in demo dataset</td>\n",
              "      <td>not available in demo dataset</td>\n",
              "      <td>desktop</td>\n",
              "      <td>Asia</td>\n",
              "      <td>Western Asia</td>\n",
              "      <td>Turkey</td>\n",
              "      <td>Izmir</td>\n",
              "      <td>(not set)</td>\n",
              "      <td>Izmir</td>\n",
              "      <td>not available in demo dataset</td>\n",
              "      <td>ttnet.com.tr</td>\n",
              "      <td>not available in demo dataset</td>\n",
              "      <td>not available in demo dataset</td>\n",
              "      <td>not available in demo dataset</td>\n",
              "      <td>1</td>\n",
              "      <td>1</td>\n",
              "      <td>1</td>\n",
              "      <td>1</td>\n",
              "      <td>1</td>\n",
              "      <td>NaN</td>\n",
              "      <td>(not set)</td>\n",
              "      <td>google</td>\n",
              "      <td>organic</td>\n",
              "      <td>(not provided)</td>\n",
              "      <td>not available in demo dataset</td>\n",
              "      <td>NaN</td>\n",
              "      <td>NaN</td>\n",
              "      <td>NaN</td>\n",
              "      <td>NaN</td>\n",
              "      <td>NaN</td>\n",
              "      <td>NaN</td>\n",
              "      <td>NaN</td>\n",
              "      <td>NaN</td>\n",
              "      <td>NaN</td>\n",
              "    </tr>\n",
              "    <tr>\n",
              "      <th>1</th>\n",
              "      <td>Organic Search</td>\n",
              "      <td>20160902</td>\n",
              "      <td>377306020877927890</td>\n",
              "      <td>377306020877927890_1472880147</td>\n",
              "      <td>Not Socially Engaged</td>\n",
              "      <td>1472880147</td>\n",
              "      <td>1</td>\n",
              "      <td>1472880147</td>\n",
              "      <td>Firefox</td>\n",
              "      <td>not available in demo dataset</td>\n",
              "      <td>not available in demo dataset</td>\n",
              "      <td>Macintosh</td>\n",
              "      <td>not available in demo dataset</td>\n",
              "      <td>False</td>\n",
              "      <td>not available in demo dataset</td>\n",
              "      <td>not available in demo dataset</td>\n",
              "      <td>not available in demo dataset</td>\n",
              "      <td>not available in demo dataset</td>\n",
              "      <td>not available in demo dataset</td>\n",
              "      <td>not available in demo dataset</td>\n",
              "      <td>not available in demo dataset</td>\n",
              "      <td>not available in demo dataset</td>\n",
              "      <td>not available in demo dataset</td>\n",
              "      <td>desktop</td>\n",
              "      <td>Oceania</td>\n",
              "      <td>Australasia</td>\n",
              "      <td>Australia</td>\n",
              "      <td>not available in demo dataset</td>\n",
              "      <td>not available in demo dataset</td>\n",
              "      <td>not available in demo dataset</td>\n",
              "      <td>not available in demo dataset</td>\n",
              "      <td>dodo.net.au</td>\n",
              "      <td>not available in demo dataset</td>\n",
              "      <td>not available in demo dataset</td>\n",
              "      <td>not available in demo dataset</td>\n",
              "      <td>1</td>\n",
              "      <td>1</td>\n",
              "      <td>1</td>\n",
              "      <td>1</td>\n",
              "      <td>1</td>\n",
              "      <td>NaN</td>\n",
              "      <td>(not set)</td>\n",
              "      <td>google</td>\n",
              "      <td>organic</td>\n",
              "      <td>(not provided)</td>\n",
              "      <td>not available in demo dataset</td>\n",
              "      <td>NaN</td>\n",
              "      <td>NaN</td>\n",
              "      <td>NaN</td>\n",
              "      <td>NaN</td>\n",
              "      <td>NaN</td>\n",
              "      <td>NaN</td>\n",
              "      <td>NaN</td>\n",
              "      <td>NaN</td>\n",
              "      <td>NaN</td>\n",
              "    </tr>\n",
              "    <tr>\n",
              "      <th>2</th>\n",
              "      <td>Organic Search</td>\n",
              "      <td>20160902</td>\n",
              "      <td>3895546263509774583</td>\n",
              "      <td>3895546263509774583_1472865386</td>\n",
              "      <td>Not Socially Engaged</td>\n",
              "      <td>1472865386</td>\n",
              "      <td>1</td>\n",
              "      <td>1472865386</td>\n",
              "      <td>Chrome</td>\n",
              "      <td>not available in demo dataset</td>\n",
              "      <td>not available in demo dataset</td>\n",
              "      <td>Windows</td>\n",
              "      <td>not available in demo dataset</td>\n",
              "      <td>False</td>\n",
              "      <td>not available in demo dataset</td>\n",
              "      <td>not available in demo dataset</td>\n",
              "      <td>not available in demo dataset</td>\n",
              "      <td>not available in demo dataset</td>\n",
              "      <td>not available in demo dataset</td>\n",
              "      <td>not available in demo dataset</td>\n",
              "      <td>not available in demo dataset</td>\n",
              "      <td>not available in demo dataset</td>\n",
              "      <td>not available in demo dataset</td>\n",
              "      <td>desktop</td>\n",
              "      <td>Europe</td>\n",
              "      <td>Southern Europe</td>\n",
              "      <td>Spain</td>\n",
              "      <td>Community of Madrid</td>\n",
              "      <td>(not set)</td>\n",
              "      <td>Madrid</td>\n",
              "      <td>not available in demo dataset</td>\n",
              "      <td>unknown.unknown</td>\n",
              "      <td>not available in demo dataset</td>\n",
              "      <td>not available in demo dataset</td>\n",
              "      <td>not available in demo dataset</td>\n",
              "      <td>1</td>\n",
              "      <td>1</td>\n",
              "      <td>1</td>\n",
              "      <td>1</td>\n",
              "      <td>1</td>\n",
              "      <td>NaN</td>\n",
              "      <td>(not set)</td>\n",
              "      <td>google</td>\n",
              "      <td>organic</td>\n",
              "      <td>(not provided)</td>\n",
              "      <td>not available in demo dataset</td>\n",
              "      <td>NaN</td>\n",
              "      <td>NaN</td>\n",
              "      <td>NaN</td>\n",
              "      <td>NaN</td>\n",
              "      <td>NaN</td>\n",
              "      <td>NaN</td>\n",
              "      <td>NaN</td>\n",
              "      <td>NaN</td>\n",
              "      <td>NaN</td>\n",
              "    </tr>\n",
              "    <tr>\n",
              "      <th>3</th>\n",
              "      <td>Organic Search</td>\n",
              "      <td>20160902</td>\n",
              "      <td>4763447161404445595</td>\n",
              "      <td>4763447161404445595_1472881213</td>\n",
              "      <td>Not Socially Engaged</td>\n",
              "      <td>1472881213</td>\n",
              "      <td>1</td>\n",
              "      <td>1472881213</td>\n",
              "      <td>UC Browser</td>\n",
              "      <td>not available in demo dataset</td>\n",
              "      <td>not available in demo dataset</td>\n",
              "      <td>Linux</td>\n",
              "      <td>not available in demo dataset</td>\n",
              "      <td>False</td>\n",
              "      <td>not available in demo dataset</td>\n",
              "      <td>not available in demo dataset</td>\n",
              "      <td>not available in demo dataset</td>\n",
              "      <td>not available in demo dataset</td>\n",
              "      <td>not available in demo dataset</td>\n",
              "      <td>not available in demo dataset</td>\n",
              "      <td>not available in demo dataset</td>\n",
              "      <td>not available in demo dataset</td>\n",
              "      <td>not available in demo dataset</td>\n",
              "      <td>desktop</td>\n",
              "      <td>Asia</td>\n",
              "      <td>Southeast Asia</td>\n",
              "      <td>Indonesia</td>\n",
              "      <td>not available in demo dataset</td>\n",
              "      <td>not available in demo dataset</td>\n",
              "      <td>not available in demo dataset</td>\n",
              "      <td>not available in demo dataset</td>\n",
              "      <td>unknown.unknown</td>\n",
              "      <td>not available in demo dataset</td>\n",
              "      <td>not available in demo dataset</td>\n",
              "      <td>not available in demo dataset</td>\n",
              "      <td>1</td>\n",
              "      <td>1</td>\n",
              "      <td>1</td>\n",
              "      <td>1</td>\n",
              "      <td>1</td>\n",
              "      <td>NaN</td>\n",
              "      <td>(not set)</td>\n",
              "      <td>google</td>\n",
              "      <td>organic</td>\n",
              "      <td>google + online</td>\n",
              "      <td>not available in demo dataset</td>\n",
              "      <td>NaN</td>\n",
              "      <td>NaN</td>\n",
              "      <td>NaN</td>\n",
              "      <td>NaN</td>\n",
              "      <td>NaN</td>\n",
              "      <td>NaN</td>\n",
              "      <td>NaN</td>\n",
              "      <td>NaN</td>\n",
              "      <td>NaN</td>\n",
              "    </tr>\n",
              "    <tr>\n",
              "      <th>4</th>\n",
              "      <td>Organic Search</td>\n",
              "      <td>20160902</td>\n",
              "      <td>27294437909732085</td>\n",
              "      <td>27294437909732085_1472822600</td>\n",
              "      <td>Not Socially Engaged</td>\n",
              "      <td>1472822600</td>\n",
              "      <td>2</td>\n",
              "      <td>1472822600</td>\n",
              "      <td>Chrome</td>\n",
              "      <td>not available in demo dataset</td>\n",
              "      <td>not available in demo dataset</td>\n",
              "      <td>Android</td>\n",
              "      <td>not available in demo dataset</td>\n",
              "      <td>True</td>\n",
              "      <td>not available in demo dataset</td>\n",
              "      <td>not available in demo dataset</td>\n",
              "      <td>not available in demo dataset</td>\n",
              "      <td>not available in demo dataset</td>\n",
              "      <td>not available in demo dataset</td>\n",
              "      <td>not available in demo dataset</td>\n",
              "      <td>not available in demo dataset</td>\n",
              "      <td>not available in demo dataset</td>\n",
              "      <td>not available in demo dataset</td>\n",
              "      <td>mobile</td>\n",
              "      <td>Europe</td>\n",
              "      <td>Northern Europe</td>\n",
              "      <td>United Kingdom</td>\n",
              "      <td>not available in demo dataset</td>\n",
              "      <td>not available in demo dataset</td>\n",
              "      <td>not available in demo dataset</td>\n",
              "      <td>not available in demo dataset</td>\n",
              "      <td>unknown.unknown</td>\n",
              "      <td>not available in demo dataset</td>\n",
              "      <td>not available in demo dataset</td>\n",
              "      <td>not available in demo dataset</td>\n",
              "      <td>1</td>\n",
              "      <td>1</td>\n",
              "      <td>1</td>\n",
              "      <td>1</td>\n",
              "      <td>NaN</td>\n",
              "      <td>NaN</td>\n",
              "      <td>(not set)</td>\n",
              "      <td>google</td>\n",
              "      <td>organic</td>\n",
              "      <td>(not provided)</td>\n",
              "      <td>not available in demo dataset</td>\n",
              "      <td>True</td>\n",
              "      <td>NaN</td>\n",
              "      <td>NaN</td>\n",
              "      <td>NaN</td>\n",
              "      <td>NaN</td>\n",
              "      <td>NaN</td>\n",
              "      <td>NaN</td>\n",
              "      <td>NaN</td>\n",
              "      <td>NaN</td>\n",
              "    </tr>\n",
              "  </tbody>\n",
              "</table>\n",
              "</div>"
            ],
            "text/plain": [
              "  channelGrouping      date  ... trafficSource.adContent trafficSource.campaignCode\n",
              "0  Organic Search  20160902  ...                     NaN                        NaN\n",
              "1  Organic Search  20160902  ...                     NaN                        NaN\n",
              "2  Organic Search  20160902  ...                     NaN                        NaN\n",
              "3  Organic Search  20160902  ...                     NaN                        NaN\n",
              "4  Organic Search  20160902  ...                     NaN                        NaN\n",
              "\n",
              "[5 rows x 55 columns]"
            ]
          },
          "metadata": {
            "tags": []
          },
          "execution_count": 19
        }
      ]
    },
    {
      "cell_type": "markdown",
      "metadata": {
        "id": "Xve80te1oShN",
        "colab_type": "text"
      },
      "source": [
        "## Converting dates"
      ]
    },
    {
      "cell_type": "code",
      "metadata": {
        "id": "lomqjojMzh9v",
        "colab_type": "code",
        "colab": {}
      },
      "source": [
        "# convert date to datetime\n",
        "df_train['date'] = pd.to_datetime(df_train[\"date\"], format=\"%Y%m%d\") \n",
        "\n",
        "# add more detailed data columns\n",
        "df_train['year'] = df_train['date'].dt.year #for year\n",
        "df_train['day'] = df_train.date.dt.day_name() #for day\n",
        "df_train['week'] = df_train.date.dt.weekofyear #week\n",
        "df_train['month'] = df_train.date.dt.month_name() #month\n",
        "\n",
        "# or like that \n",
        "# df_train.index = pd.to_datetime(df_train['date'].astype(str).apply(lambda date: f'{date[:4]}-{date[4:6]}-{date[6:]}'))"
      ],
      "execution_count": 0,
      "outputs": []
    },
    {
      "cell_type": "code",
      "metadata": {
        "id": "Wp1hbpQl6m2a",
        "colab_type": "code",
        "outputId": "ced63383-c848-4926-fc4e-f44c4e672209",
        "colab": {
          "base_uri": "https://localhost:8080/",
          "height": 529
        }
      },
      "source": [
        "df_train.describe(include='all')"
      ],
      "execution_count": 21,
      "outputs": [
        {
          "output_type": "execute_result",
          "data": {
            "text/html": [
              "<div>\n",
              "<style scoped>\n",
              "    .dataframe tbody tr th:only-of-type {\n",
              "        vertical-align: middle;\n",
              "    }\n",
              "\n",
              "    .dataframe tbody tr th {\n",
              "        vertical-align: top;\n",
              "    }\n",
              "\n",
              "    .dataframe thead th {\n",
              "        text-align: right;\n",
              "    }\n",
              "</style>\n",
              "<table border=\"1\" class=\"dataframe\">\n",
              "  <thead>\n",
              "    <tr style=\"text-align: right;\">\n",
              "      <th></th>\n",
              "      <th>channelGrouping</th>\n",
              "      <th>date</th>\n",
              "      <th>fullVisitorId</th>\n",
              "      <th>sessionId</th>\n",
              "      <th>socialEngagementType</th>\n",
              "      <th>visitId</th>\n",
              "      <th>visitNumber</th>\n",
              "      <th>visitStartTime</th>\n",
              "      <th>device.browser</th>\n",
              "      <th>device.browserVersion</th>\n",
              "      <th>device.browserSize</th>\n",
              "      <th>device.operatingSystem</th>\n",
              "      <th>device.operatingSystemVersion</th>\n",
              "      <th>device.isMobile</th>\n",
              "      <th>device.mobileDeviceBranding</th>\n",
              "      <th>device.mobileDeviceModel</th>\n",
              "      <th>device.mobileInputSelector</th>\n",
              "      <th>device.mobileDeviceInfo</th>\n",
              "      <th>device.mobileDeviceMarketingName</th>\n",
              "      <th>device.flashVersion</th>\n",
              "      <th>device.language</th>\n",
              "      <th>device.screenColors</th>\n",
              "      <th>device.screenResolution</th>\n",
              "      <th>device.deviceCategory</th>\n",
              "      <th>geoNetwork.continent</th>\n",
              "      <th>geoNetwork.subContinent</th>\n",
              "      <th>geoNetwork.country</th>\n",
              "      <th>geoNetwork.region</th>\n",
              "      <th>geoNetwork.metro</th>\n",
              "      <th>geoNetwork.city</th>\n",
              "      <th>geoNetwork.cityId</th>\n",
              "      <th>geoNetwork.networkDomain</th>\n",
              "      <th>geoNetwork.latitude</th>\n",
              "      <th>geoNetwork.longitude</th>\n",
              "      <th>geoNetwork.networkLocation</th>\n",
              "      <th>totals.visits</th>\n",
              "      <th>totals.hits</th>\n",
              "      <th>totals.pageviews</th>\n",
              "      <th>totals.bounces</th>\n",
              "      <th>totals.newVisits</th>\n",
              "      <th>totals.transactionRevenue</th>\n",
              "      <th>trafficSource.campaign</th>\n",
              "      <th>trafficSource.source</th>\n",
              "      <th>trafficSource.medium</th>\n",
              "      <th>trafficSource.keyword</th>\n",
              "      <th>trafficSource.adwordsClickInfo.criteriaParameters</th>\n",
              "      <th>trafficSource.isTrueDirect</th>\n",
              "      <th>trafficSource.referralPath</th>\n",
              "      <th>trafficSource.adwordsClickInfo.page</th>\n",
              "      <th>trafficSource.adwordsClickInfo.slot</th>\n",
              "      <th>trafficSource.adwordsClickInfo.gclId</th>\n",
              "      <th>trafficSource.adwordsClickInfo.adNetworkType</th>\n",
              "      <th>trafficSource.adwordsClickInfo.isVideoAd</th>\n",
              "      <th>trafficSource.adContent</th>\n",
              "      <th>trafficSource.campaignCode</th>\n",
              "      <th>year</th>\n",
              "      <th>day</th>\n",
              "      <th>week</th>\n",
              "      <th>month</th>\n",
              "    </tr>\n",
              "  </thead>\n",
              "  <tbody>\n",
              "    <tr>\n",
              "      <th>count</th>\n",
              "      <td>903653</td>\n",
              "      <td>903653</td>\n",
              "      <td>9.036530e+05</td>\n",
              "      <td>903653</td>\n",
              "      <td>903653</td>\n",
              "      <td>9.036530e+05</td>\n",
              "      <td>903653.000000</td>\n",
              "      <td>9.036530e+05</td>\n",
              "      <td>903653</td>\n",
              "      <td>903653</td>\n",
              "      <td>903653</td>\n",
              "      <td>903653</td>\n",
              "      <td>903653</td>\n",
              "      <td>903653</td>\n",
              "      <td>903653</td>\n",
              "      <td>903653</td>\n",
              "      <td>903653</td>\n",
              "      <td>903653</td>\n",
              "      <td>903653</td>\n",
              "      <td>903653</td>\n",
              "      <td>903653</td>\n",
              "      <td>903653</td>\n",
              "      <td>903653</td>\n",
              "      <td>903653</td>\n",
              "      <td>903653</td>\n",
              "      <td>903653</td>\n",
              "      <td>903653</td>\n",
              "      <td>903653</td>\n",
              "      <td>903653</td>\n",
              "      <td>903653</td>\n",
              "      <td>903653</td>\n",
              "      <td>903653</td>\n",
              "      <td>903653</td>\n",
              "      <td>903653</td>\n",
              "      <td>903653</td>\n",
              "      <td>903653</td>\n",
              "      <td>903653</td>\n",
              "      <td>903553</td>\n",
              "      <td>450630</td>\n",
              "      <td>703060</td>\n",
              "      <td>11515</td>\n",
              "      <td>903653</td>\n",
              "      <td>903653</td>\n",
              "      <td>903653</td>\n",
              "      <td>400724</td>\n",
              "      <td>903653</td>\n",
              "      <td>274005</td>\n",
              "      <td>330941</td>\n",
              "      <td>21460</td>\n",
              "      <td>21460</td>\n",
              "      <td>21561</td>\n",
              "      <td>21460</td>\n",
              "      <td>21460</td>\n",
              "      <td>10946</td>\n",
              "      <td>1</td>\n",
              "      <td>903653.000000</td>\n",
              "      <td>903653</td>\n",
              "      <td>903653.000000</td>\n",
              "      <td>903653</td>\n",
              "    </tr>\n",
              "    <tr>\n",
              "      <th>unique</th>\n",
              "      <td>8</td>\n",
              "      <td>366</td>\n",
              "      <td>7.427350e+05</td>\n",
              "      <td>902755</td>\n",
              "      <td>1</td>\n",
              "      <td>NaN</td>\n",
              "      <td>NaN</td>\n",
              "      <td>NaN</td>\n",
              "      <td>54</td>\n",
              "      <td>1</td>\n",
              "      <td>1</td>\n",
              "      <td>20</td>\n",
              "      <td>1</td>\n",
              "      <td>2</td>\n",
              "      <td>1</td>\n",
              "      <td>1</td>\n",
              "      <td>1</td>\n",
              "      <td>1</td>\n",
              "      <td>1</td>\n",
              "      <td>1</td>\n",
              "      <td>1</td>\n",
              "      <td>1</td>\n",
              "      <td>1</td>\n",
              "      <td>3</td>\n",
              "      <td>6</td>\n",
              "      <td>23</td>\n",
              "      <td>222</td>\n",
              "      <td>376</td>\n",
              "      <td>94</td>\n",
              "      <td>649</td>\n",
              "      <td>1</td>\n",
              "      <td>28064</td>\n",
              "      <td>1</td>\n",
              "      <td>1</td>\n",
              "      <td>1</td>\n",
              "      <td>1</td>\n",
              "      <td>274</td>\n",
              "      <td>213</td>\n",
              "      <td>1</td>\n",
              "      <td>1</td>\n",
              "      <td>5332</td>\n",
              "      <td>10</td>\n",
              "      <td>380</td>\n",
              "      <td>7</td>\n",
              "      <td>3659</td>\n",
              "      <td>1</td>\n",
              "      <td>1</td>\n",
              "      <td>1475</td>\n",
              "      <td>8</td>\n",
              "      <td>2</td>\n",
              "      <td>17774</td>\n",
              "      <td>2</td>\n",
              "      <td>1</td>\n",
              "      <td>44</td>\n",
              "      <td>1</td>\n",
              "      <td>NaN</td>\n",
              "      <td>7</td>\n",
              "      <td>NaN</td>\n",
              "      <td>12</td>\n",
              "    </tr>\n",
              "    <tr>\n",
              "      <th>top</th>\n",
              "      <td>Organic Search</td>\n",
              "      <td>2016-11-28 00:00:00</td>\n",
              "      <td>8.248397e+17</td>\n",
              "      <td>5300254668566629656_1476860156</td>\n",
              "      <td>Not Socially Engaged</td>\n",
              "      <td>NaN</td>\n",
              "      <td>NaN</td>\n",
              "      <td>NaN</td>\n",
              "      <td>Chrome</td>\n",
              "      <td>not available in demo dataset</td>\n",
              "      <td>not available in demo dataset</td>\n",
              "      <td>Windows</td>\n",
              "      <td>not available in demo dataset</td>\n",
              "      <td>False</td>\n",
              "      <td>not available in demo dataset</td>\n",
              "      <td>not available in demo dataset</td>\n",
              "      <td>not available in demo dataset</td>\n",
              "      <td>not available in demo dataset</td>\n",
              "      <td>not available in demo dataset</td>\n",
              "      <td>not available in demo dataset</td>\n",
              "      <td>not available in demo dataset</td>\n",
              "      <td>not available in demo dataset</td>\n",
              "      <td>not available in demo dataset</td>\n",
              "      <td>desktop</td>\n",
              "      <td>Americas</td>\n",
              "      <td>Northern America</td>\n",
              "      <td>United States</td>\n",
              "      <td>not available in demo dataset</td>\n",
              "      <td>not available in demo dataset</td>\n",
              "      <td>not available in demo dataset</td>\n",
              "      <td>not available in demo dataset</td>\n",
              "      <td>(not set)</td>\n",
              "      <td>not available in demo dataset</td>\n",
              "      <td>not available in demo dataset</td>\n",
              "      <td>not available in demo dataset</td>\n",
              "      <td>1</td>\n",
              "      <td>1</td>\n",
              "      <td>1</td>\n",
              "      <td>1</td>\n",
              "      <td>1</td>\n",
              "      <td>16990000</td>\n",
              "      <td>(not set)</td>\n",
              "      <td>google</td>\n",
              "      <td>organic</td>\n",
              "      <td>(not provided)</td>\n",
              "      <td>not available in demo dataset</td>\n",
              "      <td>True</td>\n",
              "      <td>/</td>\n",
              "      <td>1</td>\n",
              "      <td>Top</td>\n",
              "      <td>Cj0KEQjwmIrJBRCRmJ_x7KDo-9oBEiQAuUPKMufMpuG3Zd...</td>\n",
              "      <td>Google Search</td>\n",
              "      <td>False</td>\n",
              "      <td>Google Merchandise Collection</td>\n",
              "      <td>11251kjhkvahf</td>\n",
              "      <td>NaN</td>\n",
              "      <td>Tuesday</td>\n",
              "      <td>NaN</td>\n",
              "      <td>November</td>\n",
              "    </tr>\n",
              "    <tr>\n",
              "      <th>freq</th>\n",
              "      <td>381561</td>\n",
              "      <td>4807</td>\n",
              "      <td>2.050000e+02</td>\n",
              "      <td>2</td>\n",
              "      <td>903653</td>\n",
              "      <td>NaN</td>\n",
              "      <td>NaN</td>\n",
              "      <td>NaN</td>\n",
              "      <td>620364</td>\n",
              "      <td>903653</td>\n",
              "      <td>903653</td>\n",
              "      <td>350072</td>\n",
              "      <td>903653</td>\n",
              "      <td>664530</td>\n",
              "      <td>903653</td>\n",
              "      <td>903653</td>\n",
              "      <td>903653</td>\n",
              "      <td>903653</td>\n",
              "      <td>903653</td>\n",
              "      <td>903653</td>\n",
              "      <td>903653</td>\n",
              "      <td>903653</td>\n",
              "      <td>903653</td>\n",
              "      <td>664479</td>\n",
              "      <td>450377</td>\n",
              "      <td>390657</td>\n",
              "      <td>364744</td>\n",
              "      <td>508229</td>\n",
              "      <td>508229</td>\n",
              "      <td>508229</td>\n",
              "      <td>903653</td>\n",
              "      <td>244881</td>\n",
              "      <td>903653</td>\n",
              "      <td>903653</td>\n",
              "      <td>903653</td>\n",
              "      <td>903653</td>\n",
              "      <td>446754</td>\n",
              "      <td>452522</td>\n",
              "      <td>450630</td>\n",
              "      <td>703060</td>\n",
              "      <td>256</td>\n",
              "      <td>865347</td>\n",
              "      <td>400788</td>\n",
              "      <td>381561</td>\n",
              "      <td>366363</td>\n",
              "      <td>903653</td>\n",
              "      <td>274005</td>\n",
              "      <td>75523</td>\n",
              "      <td>21362</td>\n",
              "      <td>20956</td>\n",
              "      <td>70</td>\n",
              "      <td>21453</td>\n",
              "      <td>21460</td>\n",
              "      <td>5122</td>\n",
              "      <td>1</td>\n",
              "      <td>NaN</td>\n",
              "      <td>147279</td>\n",
              "      <td>NaN</td>\n",
              "      <td>113972</td>\n",
              "    </tr>\n",
              "    <tr>\n",
              "      <th>first</th>\n",
              "      <td>NaN</td>\n",
              "      <td>2016-08-01 00:00:00</td>\n",
              "      <td>NaN</td>\n",
              "      <td>NaN</td>\n",
              "      <td>NaN</td>\n",
              "      <td>NaN</td>\n",
              "      <td>NaN</td>\n",
              "      <td>NaN</td>\n",
              "      <td>NaN</td>\n",
              "      <td>NaN</td>\n",
              "      <td>NaN</td>\n",
              "      <td>NaN</td>\n",
              "      <td>NaN</td>\n",
              "      <td>NaN</td>\n",
              "      <td>NaN</td>\n",
              "      <td>NaN</td>\n",
              "      <td>NaN</td>\n",
              "      <td>NaN</td>\n",
              "      <td>NaN</td>\n",
              "      <td>NaN</td>\n",
              "      <td>NaN</td>\n",
              "      <td>NaN</td>\n",
              "      <td>NaN</td>\n",
              "      <td>NaN</td>\n",
              "      <td>NaN</td>\n",
              "      <td>NaN</td>\n",
              "      <td>NaN</td>\n",
              "      <td>NaN</td>\n",
              "      <td>NaN</td>\n",
              "      <td>NaN</td>\n",
              "      <td>NaN</td>\n",
              "      <td>NaN</td>\n",
              "      <td>NaN</td>\n",
              "      <td>NaN</td>\n",
              "      <td>NaN</td>\n",
              "      <td>NaN</td>\n",
              "      <td>NaN</td>\n",
              "      <td>NaN</td>\n",
              "      <td>NaN</td>\n",
              "      <td>NaN</td>\n",
              "      <td>NaN</td>\n",
              "      <td>NaN</td>\n",
              "      <td>NaN</td>\n",
              "      <td>NaN</td>\n",
              "      <td>NaN</td>\n",
              "      <td>NaN</td>\n",
              "      <td>NaN</td>\n",
              "      <td>NaN</td>\n",
              "      <td>NaN</td>\n",
              "      <td>NaN</td>\n",
              "      <td>NaN</td>\n",
              "      <td>NaN</td>\n",
              "      <td>NaN</td>\n",
              "      <td>NaN</td>\n",
              "      <td>NaN</td>\n",
              "      <td>NaN</td>\n",
              "      <td>NaN</td>\n",
              "      <td>NaN</td>\n",
              "      <td>NaN</td>\n",
              "    </tr>\n",
              "    <tr>\n",
              "      <th>last</th>\n",
              "      <td>NaN</td>\n",
              "      <td>2017-08-01 00:00:00</td>\n",
              "      <td>NaN</td>\n",
              "      <td>NaN</td>\n",
              "      <td>NaN</td>\n",
              "      <td>NaN</td>\n",
              "      <td>NaN</td>\n",
              "      <td>NaN</td>\n",
              "      <td>NaN</td>\n",
              "      <td>NaN</td>\n",
              "      <td>NaN</td>\n",
              "      <td>NaN</td>\n",
              "      <td>NaN</td>\n",
              "      <td>NaN</td>\n",
              "      <td>NaN</td>\n",
              "      <td>NaN</td>\n",
              "      <td>NaN</td>\n",
              "      <td>NaN</td>\n",
              "      <td>NaN</td>\n",
              "      <td>NaN</td>\n",
              "      <td>NaN</td>\n",
              "      <td>NaN</td>\n",
              "      <td>NaN</td>\n",
              "      <td>NaN</td>\n",
              "      <td>NaN</td>\n",
              "      <td>NaN</td>\n",
              "      <td>NaN</td>\n",
              "      <td>NaN</td>\n",
              "      <td>NaN</td>\n",
              "      <td>NaN</td>\n",
              "      <td>NaN</td>\n",
              "      <td>NaN</td>\n",
              "      <td>NaN</td>\n",
              "      <td>NaN</td>\n",
              "      <td>NaN</td>\n",
              "      <td>NaN</td>\n",
              "      <td>NaN</td>\n",
              "      <td>NaN</td>\n",
              "      <td>NaN</td>\n",
              "      <td>NaN</td>\n",
              "      <td>NaN</td>\n",
              "      <td>NaN</td>\n",
              "      <td>NaN</td>\n",
              "      <td>NaN</td>\n",
              "      <td>NaN</td>\n",
              "      <td>NaN</td>\n",
              "      <td>NaN</td>\n",
              "      <td>NaN</td>\n",
              "      <td>NaN</td>\n",
              "      <td>NaN</td>\n",
              "      <td>NaN</td>\n",
              "      <td>NaN</td>\n",
              "      <td>NaN</td>\n",
              "      <td>NaN</td>\n",
              "      <td>NaN</td>\n",
              "      <td>NaN</td>\n",
              "      <td>NaN</td>\n",
              "      <td>NaN</td>\n",
              "      <td>NaN</td>\n",
              "    </tr>\n",
              "    <tr>\n",
              "      <th>mean</th>\n",
              "      <td>NaN</td>\n",
              "      <td>NaN</td>\n",
              "      <td>NaN</td>\n",
              "      <td>NaN</td>\n",
              "      <td>NaN</td>\n",
              "      <td>1.485007e+09</td>\n",
              "      <td>2.264897</td>\n",
              "      <td>1.485007e+09</td>\n",
              "      <td>NaN</td>\n",
              "      <td>NaN</td>\n",
              "      <td>NaN</td>\n",
              "      <td>NaN</td>\n",
              "      <td>NaN</td>\n",
              "      <td>NaN</td>\n",
              "      <td>NaN</td>\n",
              "      <td>NaN</td>\n",
              "      <td>NaN</td>\n",
              "      <td>NaN</td>\n",
              "      <td>NaN</td>\n",
              "      <td>NaN</td>\n",
              "      <td>NaN</td>\n",
              "      <td>NaN</td>\n",
              "      <td>NaN</td>\n",
              "      <td>NaN</td>\n",
              "      <td>NaN</td>\n",
              "      <td>NaN</td>\n",
              "      <td>NaN</td>\n",
              "      <td>NaN</td>\n",
              "      <td>NaN</td>\n",
              "      <td>NaN</td>\n",
              "      <td>NaN</td>\n",
              "      <td>NaN</td>\n",
              "      <td>NaN</td>\n",
              "      <td>NaN</td>\n",
              "      <td>NaN</td>\n",
              "      <td>NaN</td>\n",
              "      <td>NaN</td>\n",
              "      <td>NaN</td>\n",
              "      <td>NaN</td>\n",
              "      <td>NaN</td>\n",
              "      <td>NaN</td>\n",
              "      <td>NaN</td>\n",
              "      <td>NaN</td>\n",
              "      <td>NaN</td>\n",
              "      <td>NaN</td>\n",
              "      <td>NaN</td>\n",
              "      <td>NaN</td>\n",
              "      <td>NaN</td>\n",
              "      <td>NaN</td>\n",
              "      <td>NaN</td>\n",
              "      <td>NaN</td>\n",
              "      <td>NaN</td>\n",
              "      <td>NaN</td>\n",
              "      <td>NaN</td>\n",
              "      <td>NaN</td>\n",
              "      <td>2016.517079</td>\n",
              "      <td>NaN</td>\n",
              "      <td>28.483667</td>\n",
              "      <td>NaN</td>\n",
              "    </tr>\n",
              "    <tr>\n",
              "      <th>std</th>\n",
              "      <td>NaN</td>\n",
              "      <td>NaN</td>\n",
              "      <td>NaN</td>\n",
              "      <td>NaN</td>\n",
              "      <td>NaN</td>\n",
              "      <td>9.022124e+06</td>\n",
              "      <td>9.283735</td>\n",
              "      <td>9.022124e+06</td>\n",
              "      <td>NaN</td>\n",
              "      <td>NaN</td>\n",
              "      <td>NaN</td>\n",
              "      <td>NaN</td>\n",
              "      <td>NaN</td>\n",
              "      <td>NaN</td>\n",
              "      <td>NaN</td>\n",
              "      <td>NaN</td>\n",
              "      <td>NaN</td>\n",
              "      <td>NaN</td>\n",
              "      <td>NaN</td>\n",
              "      <td>NaN</td>\n",
              "      <td>NaN</td>\n",
              "      <td>NaN</td>\n",
              "      <td>NaN</td>\n",
              "      <td>NaN</td>\n",
              "      <td>NaN</td>\n",
              "      <td>NaN</td>\n",
              "      <td>NaN</td>\n",
              "      <td>NaN</td>\n",
              "      <td>NaN</td>\n",
              "      <td>NaN</td>\n",
              "      <td>NaN</td>\n",
              "      <td>NaN</td>\n",
              "      <td>NaN</td>\n",
              "      <td>NaN</td>\n",
              "      <td>NaN</td>\n",
              "      <td>NaN</td>\n",
              "      <td>NaN</td>\n",
              "      <td>NaN</td>\n",
              "      <td>NaN</td>\n",
              "      <td>NaN</td>\n",
              "      <td>NaN</td>\n",
              "      <td>NaN</td>\n",
              "      <td>NaN</td>\n",
              "      <td>NaN</td>\n",
              "      <td>NaN</td>\n",
              "      <td>NaN</td>\n",
              "      <td>NaN</td>\n",
              "      <td>NaN</td>\n",
              "      <td>NaN</td>\n",
              "      <td>NaN</td>\n",
              "      <td>NaN</td>\n",
              "      <td>NaN</td>\n",
              "      <td>NaN</td>\n",
              "      <td>NaN</td>\n",
              "      <td>NaN</td>\n",
              "      <td>0.499708</td>\n",
              "      <td>NaN</td>\n",
              "      <td>15.108878</td>\n",
              "      <td>NaN</td>\n",
              "    </tr>\n",
              "    <tr>\n",
              "      <th>min</th>\n",
              "      <td>NaN</td>\n",
              "      <td>NaN</td>\n",
              "      <td>NaN</td>\n",
              "      <td>NaN</td>\n",
              "      <td>NaN</td>\n",
              "      <td>1.470035e+09</td>\n",
              "      <td>1.000000</td>\n",
              "      <td>1.470035e+09</td>\n",
              "      <td>NaN</td>\n",
              "      <td>NaN</td>\n",
              "      <td>NaN</td>\n",
              "      <td>NaN</td>\n",
              "      <td>NaN</td>\n",
              "      <td>NaN</td>\n",
              "      <td>NaN</td>\n",
              "      <td>NaN</td>\n",
              "      <td>NaN</td>\n",
              "      <td>NaN</td>\n",
              "      <td>NaN</td>\n",
              "      <td>NaN</td>\n",
              "      <td>NaN</td>\n",
              "      <td>NaN</td>\n",
              "      <td>NaN</td>\n",
              "      <td>NaN</td>\n",
              "      <td>NaN</td>\n",
              "      <td>NaN</td>\n",
              "      <td>NaN</td>\n",
              "      <td>NaN</td>\n",
              "      <td>NaN</td>\n",
              "      <td>NaN</td>\n",
              "      <td>NaN</td>\n",
              "      <td>NaN</td>\n",
              "      <td>NaN</td>\n",
              "      <td>NaN</td>\n",
              "      <td>NaN</td>\n",
              "      <td>NaN</td>\n",
              "      <td>NaN</td>\n",
              "      <td>NaN</td>\n",
              "      <td>NaN</td>\n",
              "      <td>NaN</td>\n",
              "      <td>NaN</td>\n",
              "      <td>NaN</td>\n",
              "      <td>NaN</td>\n",
              "      <td>NaN</td>\n",
              "      <td>NaN</td>\n",
              "      <td>NaN</td>\n",
              "      <td>NaN</td>\n",
              "      <td>NaN</td>\n",
              "      <td>NaN</td>\n",
              "      <td>NaN</td>\n",
              "      <td>NaN</td>\n",
              "      <td>NaN</td>\n",
              "      <td>NaN</td>\n",
              "      <td>NaN</td>\n",
              "      <td>NaN</td>\n",
              "      <td>2016.000000</td>\n",
              "      <td>NaN</td>\n",
              "      <td>1.000000</td>\n",
              "      <td>NaN</td>\n",
              "    </tr>\n",
              "    <tr>\n",
              "      <th>25%</th>\n",
              "      <td>NaN</td>\n",
              "      <td>NaN</td>\n",
              "      <td>NaN</td>\n",
              "      <td>NaN</td>\n",
              "      <td>NaN</td>\n",
              "      <td>1.477561e+09</td>\n",
              "      <td>1.000000</td>\n",
              "      <td>1.477561e+09</td>\n",
              "      <td>NaN</td>\n",
              "      <td>NaN</td>\n",
              "      <td>NaN</td>\n",
              "      <td>NaN</td>\n",
              "      <td>NaN</td>\n",
              "      <td>NaN</td>\n",
              "      <td>NaN</td>\n",
              "      <td>NaN</td>\n",
              "      <td>NaN</td>\n",
              "      <td>NaN</td>\n",
              "      <td>NaN</td>\n",
              "      <td>NaN</td>\n",
              "      <td>NaN</td>\n",
              "      <td>NaN</td>\n",
              "      <td>NaN</td>\n",
              "      <td>NaN</td>\n",
              "      <td>NaN</td>\n",
              "      <td>NaN</td>\n",
              "      <td>NaN</td>\n",
              "      <td>NaN</td>\n",
              "      <td>NaN</td>\n",
              "      <td>NaN</td>\n",
              "      <td>NaN</td>\n",
              "      <td>NaN</td>\n",
              "      <td>NaN</td>\n",
              "      <td>NaN</td>\n",
              "      <td>NaN</td>\n",
              "      <td>NaN</td>\n",
              "      <td>NaN</td>\n",
              "      <td>NaN</td>\n",
              "      <td>NaN</td>\n",
              "      <td>NaN</td>\n",
              "      <td>NaN</td>\n",
              "      <td>NaN</td>\n",
              "      <td>NaN</td>\n",
              "      <td>NaN</td>\n",
              "      <td>NaN</td>\n",
              "      <td>NaN</td>\n",
              "      <td>NaN</td>\n",
              "      <td>NaN</td>\n",
              "      <td>NaN</td>\n",
              "      <td>NaN</td>\n",
              "      <td>NaN</td>\n",
              "      <td>NaN</td>\n",
              "      <td>NaN</td>\n",
              "      <td>NaN</td>\n",
              "      <td>NaN</td>\n",
              "      <td>2016.000000</td>\n",
              "      <td>NaN</td>\n",
              "      <td>15.000000</td>\n",
              "      <td>NaN</td>\n",
              "    </tr>\n",
              "    <tr>\n",
              "      <th>50%</th>\n",
              "      <td>NaN</td>\n",
              "      <td>NaN</td>\n",
              "      <td>NaN</td>\n",
              "      <td>NaN</td>\n",
              "      <td>NaN</td>\n",
              "      <td>1.483949e+09</td>\n",
              "      <td>1.000000</td>\n",
              "      <td>1.483949e+09</td>\n",
              "      <td>NaN</td>\n",
              "      <td>NaN</td>\n",
              "      <td>NaN</td>\n",
              "      <td>NaN</td>\n",
              "      <td>NaN</td>\n",
              "      <td>NaN</td>\n",
              "      <td>NaN</td>\n",
              "      <td>NaN</td>\n",
              "      <td>NaN</td>\n",
              "      <td>NaN</td>\n",
              "      <td>NaN</td>\n",
              "      <td>NaN</td>\n",
              "      <td>NaN</td>\n",
              "      <td>NaN</td>\n",
              "      <td>NaN</td>\n",
              "      <td>NaN</td>\n",
              "      <td>NaN</td>\n",
              "      <td>NaN</td>\n",
              "      <td>NaN</td>\n",
              "      <td>NaN</td>\n",
              "      <td>NaN</td>\n",
              "      <td>NaN</td>\n",
              "      <td>NaN</td>\n",
              "      <td>NaN</td>\n",
              "      <td>NaN</td>\n",
              "      <td>NaN</td>\n",
              "      <td>NaN</td>\n",
              "      <td>NaN</td>\n",
              "      <td>NaN</td>\n",
              "      <td>NaN</td>\n",
              "      <td>NaN</td>\n",
              "      <td>NaN</td>\n",
              "      <td>NaN</td>\n",
              "      <td>NaN</td>\n",
              "      <td>NaN</td>\n",
              "      <td>NaN</td>\n",
              "      <td>NaN</td>\n",
              "      <td>NaN</td>\n",
              "      <td>NaN</td>\n",
              "      <td>NaN</td>\n",
              "      <td>NaN</td>\n",
              "      <td>NaN</td>\n",
              "      <td>NaN</td>\n",
              "      <td>NaN</td>\n",
              "      <td>NaN</td>\n",
              "      <td>NaN</td>\n",
              "      <td>NaN</td>\n",
              "      <td>2017.000000</td>\n",
              "      <td>NaN</td>\n",
              "      <td>30.000000</td>\n",
              "      <td>NaN</td>\n",
              "    </tr>\n",
              "    <tr>\n",
              "      <th>75%</th>\n",
              "      <td>NaN</td>\n",
              "      <td>NaN</td>\n",
              "      <td>NaN</td>\n",
              "      <td>NaN</td>\n",
              "      <td>NaN</td>\n",
              "      <td>1.492759e+09</td>\n",
              "      <td>1.000000</td>\n",
              "      <td>1.492759e+09</td>\n",
              "      <td>NaN</td>\n",
              "      <td>NaN</td>\n",
              "      <td>NaN</td>\n",
              "      <td>NaN</td>\n",
              "      <td>NaN</td>\n",
              "      <td>NaN</td>\n",
              "      <td>NaN</td>\n",
              "      <td>NaN</td>\n",
              "      <td>NaN</td>\n",
              "      <td>NaN</td>\n",
              "      <td>NaN</td>\n",
              "      <td>NaN</td>\n",
              "      <td>NaN</td>\n",
              "      <td>NaN</td>\n",
              "      <td>NaN</td>\n",
              "      <td>NaN</td>\n",
              "      <td>NaN</td>\n",
              "      <td>NaN</td>\n",
              "      <td>NaN</td>\n",
              "      <td>NaN</td>\n",
              "      <td>NaN</td>\n",
              "      <td>NaN</td>\n",
              "      <td>NaN</td>\n",
              "      <td>NaN</td>\n",
              "      <td>NaN</td>\n",
              "      <td>NaN</td>\n",
              "      <td>NaN</td>\n",
              "      <td>NaN</td>\n",
              "      <td>NaN</td>\n",
              "      <td>NaN</td>\n",
              "      <td>NaN</td>\n",
              "      <td>NaN</td>\n",
              "      <td>NaN</td>\n",
              "      <td>NaN</td>\n",
              "      <td>NaN</td>\n",
              "      <td>NaN</td>\n",
              "      <td>NaN</td>\n",
              "      <td>NaN</td>\n",
              "      <td>NaN</td>\n",
              "      <td>NaN</td>\n",
              "      <td>NaN</td>\n",
              "      <td>NaN</td>\n",
              "      <td>NaN</td>\n",
              "      <td>NaN</td>\n",
              "      <td>NaN</td>\n",
              "      <td>NaN</td>\n",
              "      <td>NaN</td>\n",
              "      <td>2017.000000</td>\n",
              "      <td>NaN</td>\n",
              "      <td>42.000000</td>\n",
              "      <td>NaN</td>\n",
              "    </tr>\n",
              "    <tr>\n",
              "      <th>max</th>\n",
              "      <td>NaN</td>\n",
              "      <td>NaN</td>\n",
              "      <td>NaN</td>\n",
              "      <td>NaN</td>\n",
              "      <td>NaN</td>\n",
              "      <td>1.501657e+09</td>\n",
              "      <td>395.000000</td>\n",
              "      <td>1.501657e+09</td>\n",
              "      <td>NaN</td>\n",
              "      <td>NaN</td>\n",
              "      <td>NaN</td>\n",
              "      <td>NaN</td>\n",
              "      <td>NaN</td>\n",
              "      <td>NaN</td>\n",
              "      <td>NaN</td>\n",
              "      <td>NaN</td>\n",
              "      <td>NaN</td>\n",
              "      <td>NaN</td>\n",
              "      <td>NaN</td>\n",
              "      <td>NaN</td>\n",
              "      <td>NaN</td>\n",
              "      <td>NaN</td>\n",
              "      <td>NaN</td>\n",
              "      <td>NaN</td>\n",
              "      <td>NaN</td>\n",
              "      <td>NaN</td>\n",
              "      <td>NaN</td>\n",
              "      <td>NaN</td>\n",
              "      <td>NaN</td>\n",
              "      <td>NaN</td>\n",
              "      <td>NaN</td>\n",
              "      <td>NaN</td>\n",
              "      <td>NaN</td>\n",
              "      <td>NaN</td>\n",
              "      <td>NaN</td>\n",
              "      <td>NaN</td>\n",
              "      <td>NaN</td>\n",
              "      <td>NaN</td>\n",
              "      <td>NaN</td>\n",
              "      <td>NaN</td>\n",
              "      <td>NaN</td>\n",
              "      <td>NaN</td>\n",
              "      <td>NaN</td>\n",
              "      <td>NaN</td>\n",
              "      <td>NaN</td>\n",
              "      <td>NaN</td>\n",
              "      <td>NaN</td>\n",
              "      <td>NaN</td>\n",
              "      <td>NaN</td>\n",
              "      <td>NaN</td>\n",
              "      <td>NaN</td>\n",
              "      <td>NaN</td>\n",
              "      <td>NaN</td>\n",
              "      <td>NaN</td>\n",
              "      <td>NaN</td>\n",
              "      <td>2017.000000</td>\n",
              "      <td>NaN</td>\n",
              "      <td>52.000000</td>\n",
              "      <td>NaN</td>\n",
              "    </tr>\n",
              "  </tbody>\n",
              "</table>\n",
              "</div>"
            ],
            "text/plain": [
              "       channelGrouping                 date  ...           week     month\n",
              "count           903653               903653  ...  903653.000000    903653\n",
              "unique               8                  366  ...            NaN        12\n",
              "top     Organic Search  2016-11-28 00:00:00  ...            NaN  November\n",
              "freq            381561                 4807  ...            NaN    113972\n",
              "first              NaN  2016-08-01 00:00:00  ...            NaN       NaN\n",
              "last               NaN  2017-08-01 00:00:00  ...            NaN       NaN\n",
              "mean               NaN                  NaN  ...      28.483667       NaN\n",
              "std                NaN                  NaN  ...      15.108878       NaN\n",
              "min                NaN                  NaN  ...       1.000000       NaN\n",
              "25%                NaN                  NaN  ...      15.000000       NaN\n",
              "50%                NaN                  NaN  ...      30.000000       NaN\n",
              "75%                NaN                  NaN  ...      42.000000       NaN\n",
              "max                NaN                  NaN  ...      52.000000       NaN\n",
              "\n",
              "[13 rows x 59 columns]"
            ]
          },
          "metadata": {
            "tags": []
          },
          "execution_count": 21
        }
      ]
    },
    {
      "cell_type": "code",
      "metadata": {
        "id": "ecNVxuXI4rz5",
        "colab_type": "code",
        "outputId": "f8aad643-707e-433e-e685-f46393f19c1a",
        "colab": {
          "base_uri": "https://localhost:8080/",
          "height": 1000
        }
      },
      "source": [
        "df_train.info(verbose=True)"
      ],
      "execution_count": 0,
      "outputs": [
        {
          "output_type": "stream",
          "text": [
            "<class 'pandas.core.frame.DataFrame'>\n",
            "RangeIndex: 903653 entries, 0 to 903652\n",
            "Data columns (total 59 columns):\n",
            " #   Column                                             Non-Null Count   Dtype         \n",
            "---  ------                                             --------------   -----         \n",
            " 0   channelGrouping                                    903653 non-null  object        \n",
            " 1   date                                               903653 non-null  datetime64[ns]\n",
            " 2   fullVisitorId                                      903653 non-null  object        \n",
            " 3   sessionId                                          903653 non-null  object        \n",
            " 4   socialEngagementType                               903653 non-null  object        \n",
            " 5   visitId                                            903653 non-null  int64         \n",
            " 6   visitNumber                                        903653 non-null  int64         \n",
            " 7   visitStartTime                                     903653 non-null  int64         \n",
            " 8   device.browser                                     903653 non-null  object        \n",
            " 9   device.browserVersion                              903653 non-null  object        \n",
            " 10  device.browserSize                                 903653 non-null  object        \n",
            " 11  device.operatingSystem                             903653 non-null  object        \n",
            " 12  device.operatingSystemVersion                      903653 non-null  object        \n",
            " 13  device.isMobile                                    903653 non-null  bool          \n",
            " 14  device.mobileDeviceBranding                        903653 non-null  object        \n",
            " 15  device.mobileDeviceModel                           903653 non-null  object        \n",
            " 16  device.mobileInputSelector                         903653 non-null  object        \n",
            " 17  device.mobileDeviceInfo                            903653 non-null  object        \n",
            " 18  device.mobileDeviceMarketingName                   903653 non-null  object        \n",
            " 19  device.flashVersion                                903653 non-null  object        \n",
            " 20  device.language                                    903653 non-null  object        \n",
            " 21  device.screenColors                                903653 non-null  object        \n",
            " 22  device.screenResolution                            903653 non-null  object        \n",
            " 23  device.deviceCategory                              903653 non-null  object        \n",
            " 24  geoNetwork.continent                               903653 non-null  object        \n",
            " 25  geoNetwork.subContinent                            903653 non-null  object        \n",
            " 26  geoNetwork.country                                 903653 non-null  object        \n",
            " 27  geoNetwork.region                                  903653 non-null  object        \n",
            " 28  geoNetwork.metro                                   903653 non-null  object        \n",
            " 29  geoNetwork.city                                    903653 non-null  object        \n",
            " 30  geoNetwork.cityId                                  903653 non-null  object        \n",
            " 31  geoNetwork.networkDomain                           903653 non-null  object        \n",
            " 32  geoNetwork.latitude                                903653 non-null  object        \n",
            " 33  geoNetwork.longitude                               903653 non-null  object        \n",
            " 34  geoNetwork.networkLocation                         903653 non-null  object        \n",
            " 35  totals.visits                                      903653 non-null  object        \n",
            " 36  totals.hits                                        903653 non-null  object        \n",
            " 37  totals.pageviews                                   903553 non-null  object        \n",
            " 38  totals.bounces                                     450630 non-null  object        \n",
            " 39  totals.newVisits                                   703060 non-null  object        \n",
            " 40  totals.transactionRevenue                          11515 non-null   object        \n",
            " 41  trafficSource.campaign                             903653 non-null  object        \n",
            " 42  trafficSource.source                               903653 non-null  object        \n",
            " 43  trafficSource.medium                               903653 non-null  object        \n",
            " 44  trafficSource.keyword                              400724 non-null  object        \n",
            " 45  trafficSource.adwordsClickInfo.criteriaParameters  903653 non-null  object        \n",
            " 46  trafficSource.isTrueDirect                         274005 non-null  object        \n",
            " 47  trafficSource.referralPath                         330941 non-null  object        \n",
            " 48  trafficSource.adwordsClickInfo.page                21460 non-null   object        \n",
            " 49  trafficSource.adwordsClickInfo.slot                21460 non-null   object        \n",
            " 50  trafficSource.adwordsClickInfo.gclId               21561 non-null   object        \n",
            " 51  trafficSource.adwordsClickInfo.adNetworkType       21460 non-null   object        \n",
            " 52  trafficSource.adwordsClickInfo.isVideoAd           21460 non-null   object        \n",
            " 53  trafficSource.adContent                            10946 non-null   object        \n",
            " 54  trafficSource.campaignCode                         1 non-null       object        \n",
            " 55  year                                               903653 non-null  int64         \n",
            " 56  day                                                903653 non-null  object        \n",
            " 57  week                                               903653 non-null  int64         \n",
            " 58  month                                              903653 non-null  object        \n",
            "dtypes: bool(1), datetime64[ns](1), int64(5), object(52)\n",
            "memory usage: 400.7+ MB\n"
          ],
          "name": "stdout"
        }
      ]
    },
    {
      "cell_type": "code",
      "metadata": {
        "id": "IuJKEUVX2URQ",
        "colab_type": "code",
        "outputId": "4acd224a-a746-4c54-a0a7-6cde60005be6",
        "colab": {
          "base_uri": "https://localhost:8080/",
          "height": 313
        }
      },
      "source": [
        "df_train.head()"
      ],
      "execution_count": 0,
      "outputs": [
        {
          "output_type": "execute_result",
          "data": {
            "text/html": [
              "<div>\n",
              "<style scoped>\n",
              "    .dataframe tbody tr th:only-of-type {\n",
              "        vertical-align: middle;\n",
              "    }\n",
              "\n",
              "    .dataframe tbody tr th {\n",
              "        vertical-align: top;\n",
              "    }\n",
              "\n",
              "    .dataframe thead th {\n",
              "        text-align: right;\n",
              "    }\n",
              "</style>\n",
              "<table border=\"1\" class=\"dataframe\">\n",
              "  <thead>\n",
              "    <tr style=\"text-align: right;\">\n",
              "      <th></th>\n",
              "      <th>channelGrouping</th>\n",
              "      <th>date</th>\n",
              "      <th>fullVisitorId</th>\n",
              "      <th>sessionId</th>\n",
              "      <th>socialEngagementType</th>\n",
              "      <th>visitId</th>\n",
              "      <th>visitNumber</th>\n",
              "      <th>visitStartTime</th>\n",
              "      <th>device.browser</th>\n",
              "      <th>device.browserVersion</th>\n",
              "      <th>device.browserSize</th>\n",
              "      <th>device.operatingSystem</th>\n",
              "      <th>device.operatingSystemVersion</th>\n",
              "      <th>device.isMobile</th>\n",
              "      <th>device.mobileDeviceBranding</th>\n",
              "      <th>device.mobileDeviceModel</th>\n",
              "      <th>device.mobileInputSelector</th>\n",
              "      <th>device.mobileDeviceInfo</th>\n",
              "      <th>device.mobileDeviceMarketingName</th>\n",
              "      <th>device.flashVersion</th>\n",
              "      <th>device.language</th>\n",
              "      <th>device.screenColors</th>\n",
              "      <th>device.screenResolution</th>\n",
              "      <th>device.deviceCategory</th>\n",
              "      <th>geoNetwork.continent</th>\n",
              "      <th>geoNetwork.subContinent</th>\n",
              "      <th>geoNetwork.country</th>\n",
              "      <th>geoNetwork.region</th>\n",
              "      <th>geoNetwork.metro</th>\n",
              "      <th>geoNetwork.city</th>\n",
              "      <th>geoNetwork.cityId</th>\n",
              "      <th>geoNetwork.networkDomain</th>\n",
              "      <th>geoNetwork.latitude</th>\n",
              "      <th>geoNetwork.longitude</th>\n",
              "      <th>geoNetwork.networkLocation</th>\n",
              "      <th>totals.visits</th>\n",
              "      <th>totals.hits</th>\n",
              "      <th>totals.pageviews</th>\n",
              "      <th>totals.bounces</th>\n",
              "      <th>totals.newVisits</th>\n",
              "      <th>totals.transactionRevenue</th>\n",
              "      <th>trafficSource.campaign</th>\n",
              "      <th>trafficSource.source</th>\n",
              "      <th>trafficSource.medium</th>\n",
              "      <th>trafficSource.keyword</th>\n",
              "      <th>trafficSource.adwordsClickInfo.criteriaParameters</th>\n",
              "      <th>trafficSource.isTrueDirect</th>\n",
              "      <th>trafficSource.referralPath</th>\n",
              "      <th>trafficSource.adwordsClickInfo.page</th>\n",
              "      <th>trafficSource.adwordsClickInfo.slot</th>\n",
              "      <th>trafficSource.adwordsClickInfo.gclId</th>\n",
              "      <th>trafficSource.adwordsClickInfo.adNetworkType</th>\n",
              "      <th>trafficSource.adwordsClickInfo.isVideoAd</th>\n",
              "      <th>trafficSource.adContent</th>\n",
              "      <th>trafficSource.campaignCode</th>\n",
              "      <th>year</th>\n",
              "      <th>day</th>\n",
              "      <th>week</th>\n",
              "      <th>month</th>\n",
              "    </tr>\n",
              "  </thead>\n",
              "  <tbody>\n",
              "    <tr>\n",
              "      <th>0</th>\n",
              "      <td>Organic Search</td>\n",
              "      <td>2016-09-02</td>\n",
              "      <td>1131660440785968503</td>\n",
              "      <td>1131660440785968503_1472830385</td>\n",
              "      <td>Not Socially Engaged</td>\n",
              "      <td>1472830385</td>\n",
              "      <td>1</td>\n",
              "      <td>1472830385</td>\n",
              "      <td>Chrome</td>\n",
              "      <td>not available in demo dataset</td>\n",
              "      <td>not available in demo dataset</td>\n",
              "      <td>Windows</td>\n",
              "      <td>not available in demo dataset</td>\n",
              "      <td>False</td>\n",
              "      <td>not available in demo dataset</td>\n",
              "      <td>not available in demo dataset</td>\n",
              "      <td>not available in demo dataset</td>\n",
              "      <td>not available in demo dataset</td>\n",
              "      <td>not available in demo dataset</td>\n",
              "      <td>not available in demo dataset</td>\n",
              "      <td>not available in demo dataset</td>\n",
              "      <td>not available in demo dataset</td>\n",
              "      <td>not available in demo dataset</td>\n",
              "      <td>desktop</td>\n",
              "      <td>Asia</td>\n",
              "      <td>Western Asia</td>\n",
              "      <td>Turkey</td>\n",
              "      <td>Izmir</td>\n",
              "      <td>(not set)</td>\n",
              "      <td>Izmir</td>\n",
              "      <td>not available in demo dataset</td>\n",
              "      <td>ttnet.com.tr</td>\n",
              "      <td>not available in demo dataset</td>\n",
              "      <td>not available in demo dataset</td>\n",
              "      <td>not available in demo dataset</td>\n",
              "      <td>1</td>\n",
              "      <td>1</td>\n",
              "      <td>1</td>\n",
              "      <td>1</td>\n",
              "      <td>1</td>\n",
              "      <td>NaN</td>\n",
              "      <td>(not set)</td>\n",
              "      <td>google</td>\n",
              "      <td>organic</td>\n",
              "      <td>(not provided)</td>\n",
              "      <td>not available in demo dataset</td>\n",
              "      <td>NaN</td>\n",
              "      <td>NaN</td>\n",
              "      <td>NaN</td>\n",
              "      <td>NaN</td>\n",
              "      <td>NaN</td>\n",
              "      <td>NaN</td>\n",
              "      <td>NaN</td>\n",
              "      <td>NaN</td>\n",
              "      <td>NaN</td>\n",
              "      <td>2016</td>\n",
              "      <td>Friday</td>\n",
              "      <td>35</td>\n",
              "      <td>September</td>\n",
              "    </tr>\n",
              "    <tr>\n",
              "      <th>1</th>\n",
              "      <td>Organic Search</td>\n",
              "      <td>2016-09-02</td>\n",
              "      <td>377306020877927890</td>\n",
              "      <td>377306020877927890_1472880147</td>\n",
              "      <td>Not Socially Engaged</td>\n",
              "      <td>1472880147</td>\n",
              "      <td>1</td>\n",
              "      <td>1472880147</td>\n",
              "      <td>Firefox</td>\n",
              "      <td>not available in demo dataset</td>\n",
              "      <td>not available in demo dataset</td>\n",
              "      <td>Macintosh</td>\n",
              "      <td>not available in demo dataset</td>\n",
              "      <td>False</td>\n",
              "      <td>not available in demo dataset</td>\n",
              "      <td>not available in demo dataset</td>\n",
              "      <td>not available in demo dataset</td>\n",
              "      <td>not available in demo dataset</td>\n",
              "      <td>not available in demo dataset</td>\n",
              "      <td>not available in demo dataset</td>\n",
              "      <td>not available in demo dataset</td>\n",
              "      <td>not available in demo dataset</td>\n",
              "      <td>not available in demo dataset</td>\n",
              "      <td>desktop</td>\n",
              "      <td>Oceania</td>\n",
              "      <td>Australasia</td>\n",
              "      <td>Australia</td>\n",
              "      <td>not available in demo dataset</td>\n",
              "      <td>not available in demo dataset</td>\n",
              "      <td>not available in demo dataset</td>\n",
              "      <td>not available in demo dataset</td>\n",
              "      <td>dodo.net.au</td>\n",
              "      <td>not available in demo dataset</td>\n",
              "      <td>not available in demo dataset</td>\n",
              "      <td>not available in demo dataset</td>\n",
              "      <td>1</td>\n",
              "      <td>1</td>\n",
              "      <td>1</td>\n",
              "      <td>1</td>\n",
              "      <td>1</td>\n",
              "      <td>NaN</td>\n",
              "      <td>(not set)</td>\n",
              "      <td>google</td>\n",
              "      <td>organic</td>\n",
              "      <td>(not provided)</td>\n",
              "      <td>not available in demo dataset</td>\n",
              "      <td>NaN</td>\n",
              "      <td>NaN</td>\n",
              "      <td>NaN</td>\n",
              "      <td>NaN</td>\n",
              "      <td>NaN</td>\n",
              "      <td>NaN</td>\n",
              "      <td>NaN</td>\n",
              "      <td>NaN</td>\n",
              "      <td>NaN</td>\n",
              "      <td>2016</td>\n",
              "      <td>Friday</td>\n",
              "      <td>35</td>\n",
              "      <td>September</td>\n",
              "    </tr>\n",
              "    <tr>\n",
              "      <th>2</th>\n",
              "      <td>Organic Search</td>\n",
              "      <td>2016-09-02</td>\n",
              "      <td>3895546263509774583</td>\n",
              "      <td>3895546263509774583_1472865386</td>\n",
              "      <td>Not Socially Engaged</td>\n",
              "      <td>1472865386</td>\n",
              "      <td>1</td>\n",
              "      <td>1472865386</td>\n",
              "      <td>Chrome</td>\n",
              "      <td>not available in demo dataset</td>\n",
              "      <td>not available in demo dataset</td>\n",
              "      <td>Windows</td>\n",
              "      <td>not available in demo dataset</td>\n",
              "      <td>False</td>\n",
              "      <td>not available in demo dataset</td>\n",
              "      <td>not available in demo dataset</td>\n",
              "      <td>not available in demo dataset</td>\n",
              "      <td>not available in demo dataset</td>\n",
              "      <td>not available in demo dataset</td>\n",
              "      <td>not available in demo dataset</td>\n",
              "      <td>not available in demo dataset</td>\n",
              "      <td>not available in demo dataset</td>\n",
              "      <td>not available in demo dataset</td>\n",
              "      <td>desktop</td>\n",
              "      <td>Europe</td>\n",
              "      <td>Southern Europe</td>\n",
              "      <td>Spain</td>\n",
              "      <td>Community of Madrid</td>\n",
              "      <td>(not set)</td>\n",
              "      <td>Madrid</td>\n",
              "      <td>not available in demo dataset</td>\n",
              "      <td>unknown.unknown</td>\n",
              "      <td>not available in demo dataset</td>\n",
              "      <td>not available in demo dataset</td>\n",
              "      <td>not available in demo dataset</td>\n",
              "      <td>1</td>\n",
              "      <td>1</td>\n",
              "      <td>1</td>\n",
              "      <td>1</td>\n",
              "      <td>1</td>\n",
              "      <td>NaN</td>\n",
              "      <td>(not set)</td>\n",
              "      <td>google</td>\n",
              "      <td>organic</td>\n",
              "      <td>(not provided)</td>\n",
              "      <td>not available in demo dataset</td>\n",
              "      <td>NaN</td>\n",
              "      <td>NaN</td>\n",
              "      <td>NaN</td>\n",
              "      <td>NaN</td>\n",
              "      <td>NaN</td>\n",
              "      <td>NaN</td>\n",
              "      <td>NaN</td>\n",
              "      <td>NaN</td>\n",
              "      <td>NaN</td>\n",
              "      <td>2016</td>\n",
              "      <td>Friday</td>\n",
              "      <td>35</td>\n",
              "      <td>September</td>\n",
              "    </tr>\n",
              "    <tr>\n",
              "      <th>3</th>\n",
              "      <td>Organic Search</td>\n",
              "      <td>2016-09-02</td>\n",
              "      <td>4763447161404445595</td>\n",
              "      <td>4763447161404445595_1472881213</td>\n",
              "      <td>Not Socially Engaged</td>\n",
              "      <td>1472881213</td>\n",
              "      <td>1</td>\n",
              "      <td>1472881213</td>\n",
              "      <td>UC Browser</td>\n",
              "      <td>not available in demo dataset</td>\n",
              "      <td>not available in demo dataset</td>\n",
              "      <td>Linux</td>\n",
              "      <td>not available in demo dataset</td>\n",
              "      <td>False</td>\n",
              "      <td>not available in demo dataset</td>\n",
              "      <td>not available in demo dataset</td>\n",
              "      <td>not available in demo dataset</td>\n",
              "      <td>not available in demo dataset</td>\n",
              "      <td>not available in demo dataset</td>\n",
              "      <td>not available in demo dataset</td>\n",
              "      <td>not available in demo dataset</td>\n",
              "      <td>not available in demo dataset</td>\n",
              "      <td>not available in demo dataset</td>\n",
              "      <td>desktop</td>\n",
              "      <td>Asia</td>\n",
              "      <td>Southeast Asia</td>\n",
              "      <td>Indonesia</td>\n",
              "      <td>not available in demo dataset</td>\n",
              "      <td>not available in demo dataset</td>\n",
              "      <td>not available in demo dataset</td>\n",
              "      <td>not available in demo dataset</td>\n",
              "      <td>unknown.unknown</td>\n",
              "      <td>not available in demo dataset</td>\n",
              "      <td>not available in demo dataset</td>\n",
              "      <td>not available in demo dataset</td>\n",
              "      <td>1</td>\n",
              "      <td>1</td>\n",
              "      <td>1</td>\n",
              "      <td>1</td>\n",
              "      <td>1</td>\n",
              "      <td>NaN</td>\n",
              "      <td>(not set)</td>\n",
              "      <td>google</td>\n",
              "      <td>organic</td>\n",
              "      <td>google + online</td>\n",
              "      <td>not available in demo dataset</td>\n",
              "      <td>NaN</td>\n",
              "      <td>NaN</td>\n",
              "      <td>NaN</td>\n",
              "      <td>NaN</td>\n",
              "      <td>NaN</td>\n",
              "      <td>NaN</td>\n",
              "      <td>NaN</td>\n",
              "      <td>NaN</td>\n",
              "      <td>NaN</td>\n",
              "      <td>2016</td>\n",
              "      <td>Friday</td>\n",
              "      <td>35</td>\n",
              "      <td>September</td>\n",
              "    </tr>\n",
              "    <tr>\n",
              "      <th>4</th>\n",
              "      <td>Organic Search</td>\n",
              "      <td>2016-09-02</td>\n",
              "      <td>27294437909732085</td>\n",
              "      <td>27294437909732085_1472822600</td>\n",
              "      <td>Not Socially Engaged</td>\n",
              "      <td>1472822600</td>\n",
              "      <td>2</td>\n",
              "      <td>1472822600</td>\n",
              "      <td>Chrome</td>\n",
              "      <td>not available in demo dataset</td>\n",
              "      <td>not available in demo dataset</td>\n",
              "      <td>Android</td>\n",
              "      <td>not available in demo dataset</td>\n",
              "      <td>True</td>\n",
              "      <td>not available in demo dataset</td>\n",
              "      <td>not available in demo dataset</td>\n",
              "      <td>not available in demo dataset</td>\n",
              "      <td>not available in demo dataset</td>\n",
              "      <td>not available in demo dataset</td>\n",
              "      <td>not available in demo dataset</td>\n",
              "      <td>not available in demo dataset</td>\n",
              "      <td>not available in demo dataset</td>\n",
              "      <td>not available in demo dataset</td>\n",
              "      <td>mobile</td>\n",
              "      <td>Europe</td>\n",
              "      <td>Northern Europe</td>\n",
              "      <td>United Kingdom</td>\n",
              "      <td>not available in demo dataset</td>\n",
              "      <td>not available in demo dataset</td>\n",
              "      <td>not available in demo dataset</td>\n",
              "      <td>not available in demo dataset</td>\n",
              "      <td>unknown.unknown</td>\n",
              "      <td>not available in demo dataset</td>\n",
              "      <td>not available in demo dataset</td>\n",
              "      <td>not available in demo dataset</td>\n",
              "      <td>1</td>\n",
              "      <td>1</td>\n",
              "      <td>1</td>\n",
              "      <td>1</td>\n",
              "      <td>NaN</td>\n",
              "      <td>NaN</td>\n",
              "      <td>(not set)</td>\n",
              "      <td>google</td>\n",
              "      <td>organic</td>\n",
              "      <td>(not provided)</td>\n",
              "      <td>not available in demo dataset</td>\n",
              "      <td>True</td>\n",
              "      <td>NaN</td>\n",
              "      <td>NaN</td>\n",
              "      <td>NaN</td>\n",
              "      <td>NaN</td>\n",
              "      <td>NaN</td>\n",
              "      <td>NaN</td>\n",
              "      <td>NaN</td>\n",
              "      <td>NaN</td>\n",
              "      <td>2016</td>\n",
              "      <td>Friday</td>\n",
              "      <td>35</td>\n",
              "      <td>September</td>\n",
              "    </tr>\n",
              "  </tbody>\n",
              "</table>\n",
              "</div>"
            ],
            "text/plain": [
              "  channelGrouping       date        fullVisitorId  ...     day week      month\n",
              "0  Organic Search 2016-09-02  1131660440785968503  ...  Friday   35  September\n",
              "1  Organic Search 2016-09-02   377306020877927890  ...  Friday   35  September\n",
              "2  Organic Search 2016-09-02  3895546263509774583  ...  Friday   35  September\n",
              "3  Organic Search 2016-09-02  4763447161404445595  ...  Friday   35  September\n",
              "4  Organic Search 2016-09-02    27294437909732085  ...  Friday   35  September\n",
              "\n",
              "[5 rows x 59 columns]"
            ]
          },
          "metadata": {
            "tags": []
          },
          "execution_count": 16
        }
      ]
    },
    {
      "cell_type": "markdown",
      "metadata": {
        "id": "qIY8bJlm7fBf",
        "colab_type": "text"
      },
      "source": [
        "# Cleaning the data"
      ]
    },
    {
      "cell_type": "markdown",
      "metadata": {
        "id": "TULllGh0uVlw",
        "colab_type": "text"
      },
      "source": [
        "## Dealing with NULLs"
      ]
    },
    {
      "cell_type": "code",
      "metadata": {
        "id": "uO9mkmqQXXIN",
        "colab_type": "code",
        "outputId": "4fa5b3c8-73b6-4601-e517-e60f9df26884",
        "colab": {
          "base_uri": "https://localhost:8080/",
          "height": 1000
        }
      },
      "source": [
        "df_train.isnull().sum().sort_values(ascending = False)"
      ],
      "execution_count": 0,
      "outputs": [
        {
          "output_type": "execute_result",
          "data": {
            "text/plain": [
              "trafficSource.campaignCode                           903652\n",
              "trafficSource.adContent                              892707\n",
              "totals.transactionRevenue                            892138\n",
              "trafficSource.adwordsClickInfo.page                  882193\n",
              "trafficSource.adwordsClickInfo.slot                  882193\n",
              "trafficSource.adwordsClickInfo.isVideoAd             882193\n",
              "trafficSource.adwordsClickInfo.adNetworkType         882193\n",
              "trafficSource.adwordsClickInfo.gclId                 882092\n",
              "trafficSource.isTrueDirect                           629648\n",
              "trafficSource.referralPath                           572712\n",
              "trafficSource.keyword                                502929\n",
              "totals.bounces                                       453023\n",
              "totals.newVisits                                     200593\n",
              "totals.pageviews                                        100\n",
              "device.mobileDeviceMarketingName                          0\n",
              "device.flashVersion                                       0\n",
              "device.browserSize                                        0\n",
              "device.mobileDeviceInfo                                   0\n",
              "device.mobileInputSelector                                0\n",
              "device.mobileDeviceModel                                  0\n",
              "device.mobileDeviceBranding                               0\n",
              "device.isMobile                                           0\n",
              "device.operatingSystemVersion                             0\n",
              "device.operatingSystem                                    0\n",
              "month                                                     0\n",
              "device.browserVersion                                     0\n",
              "device.browser                                            0\n",
              "visitStartTime                                            0\n",
              "device.screenColors                                       0\n",
              "visitNumber                                               0\n",
              "visitId                                                   0\n",
              "socialEngagementType                                      0\n",
              "sessionId                                                 0\n",
              "fullVisitorId                                             0\n",
              "date                                                      0\n",
              "device.language                                           0\n",
              "geoNetwork.city                                           0\n",
              "device.screenResolution                                   0\n",
              "device.deviceCategory                                     0\n",
              "day                                                       0\n",
              "year                                                      0\n",
              "trafficSource.adwordsClickInfo.criteriaParameters         0\n",
              "trafficSource.medium                                      0\n",
              "trafficSource.source                                      0\n",
              "trafficSource.campaign                                    0\n",
              "totals.hits                                               0\n",
              "totals.visits                                             0\n",
              "geoNetwork.networkLocation                                0\n",
              "geoNetwork.longitude                                      0\n",
              "geoNetwork.latitude                                       0\n",
              "geoNetwork.networkDomain                                  0\n",
              "geoNetwork.cityId                                         0\n",
              "week                                                      0\n",
              "geoNetwork.metro                                          0\n",
              "geoNetwork.region                                         0\n",
              "geoNetwork.country                                        0\n",
              "geoNetwork.subContinent                                   0\n",
              "geoNetwork.continent                                      0\n",
              "channelGrouping                                           0\n",
              "dtype: int64"
            ]
          },
          "metadata": {
            "tags": []
          },
          "execution_count": 18
        }
      ]
    },
    {
      "cell_type": "code",
      "metadata": {
        "id": "RCx15Fudzh9m",
        "colab_type": "code",
        "outputId": "08df3d29-439f-49e3-9fe1-de6b292c44d3",
        "colab": {
          "base_uri": "https://localhost:8080/",
          "height": 219
        }
      },
      "source": [
        "# Doesn't work\n",
        "### get # of NULLs with # of nunique per column\n",
        "# df_train.isnull().sum().sort_values(ascending = False)\n",
        "df_train.isnull().agg(['sum']).sort_values['all'](ascending = False)\n",
        "#.agg(['mean','median'])['Fare']"
      ],
      "execution_count": 0,
      "outputs": [
        {
          "output_type": "error",
          "ename": "TypeError",
          "evalue": "ignored",
          "traceback": [
            "\u001b[0;31m---------------------------------------------------------------------------\u001b[0m",
            "\u001b[0;31mTypeError\u001b[0m                                 Traceback (most recent call last)",
            "\u001b[0;32m<ipython-input-23-65cd83618040>\u001b[0m in \u001b[0;36m<module>\u001b[0;34m()\u001b[0m\n\u001b[1;32m      1\u001b[0m \u001b[0;31m# get # of NULLs with # of nunique per column\u001b[0m\u001b[0;34m\u001b[0m\u001b[0;34m\u001b[0m\u001b[0;34m\u001b[0m\u001b[0m\n\u001b[1;32m      2\u001b[0m \u001b[0;31m# df_train.isnull().sum().sort_values(ascending = False)\u001b[0m\u001b[0;34m\u001b[0m\u001b[0;34m\u001b[0m\u001b[0;34m\u001b[0m\u001b[0m\n\u001b[0;32m----> 3\u001b[0;31m \u001b[0mdf_train\u001b[0m\u001b[0;34m.\u001b[0m\u001b[0misnull\u001b[0m\u001b[0;34m(\u001b[0m\u001b[0;34m)\u001b[0m\u001b[0;34m.\u001b[0m\u001b[0magg\u001b[0m\u001b[0;34m(\u001b[0m\u001b[0;34m[\u001b[0m\u001b[0;34m'sum'\u001b[0m\u001b[0;34m]\u001b[0m\u001b[0;34m)\u001b[0m\u001b[0;34m.\u001b[0m\u001b[0msort_values\u001b[0m\u001b[0;34m[\u001b[0m\u001b[0;34m'all'\u001b[0m\u001b[0;34m]\u001b[0m\u001b[0;34m(\u001b[0m\u001b[0mascending\u001b[0m \u001b[0;34m=\u001b[0m \u001b[0;32mFalse\u001b[0m\u001b[0;34m)\u001b[0m\u001b[0;34m\u001b[0m\u001b[0;34m\u001b[0m\u001b[0m\n\u001b[0m\u001b[1;32m      4\u001b[0m \u001b[0;31m#.agg(['mean','median'])['Fare']\u001b[0m\u001b[0;34m\u001b[0m\u001b[0;34m\u001b[0m\u001b[0;34m\u001b[0m\u001b[0m\n",
            "\u001b[0;31mTypeError\u001b[0m: 'method' object is not subscriptable"
          ]
        }
      ]
    },
    {
      "cell_type": "code",
      "metadata": {
        "id": "BsV1RVWnKq8x",
        "colab_type": "code",
        "outputId": "d787817a-f6ec-4ea2-92f5-ac9756d09ebc",
        "colab": {
          "base_uri": "https://localhost:8080/",
          "height": 52
        }
      },
      "source": [
        "df_train['trafficSource.campaignCode'].value_counts()"
      ],
      "execution_count": 0,
      "outputs": [
        {
          "output_type": "execute_result",
          "data": {
            "text/plain": [
              "11251kjhkvahf    1\n",
              "Name: trafficSource.campaignCode, dtype: int64"
            ]
          },
          "metadata": {
            "tags": []
          },
          "execution_count": 19
        }
      ]
    },
    {
      "cell_type": "code",
      "metadata": {
        "id": "zm9JSoGnMKBK",
        "colab_type": "code",
        "outputId": "e283d61e-44cf-4b2a-a6ca-dc06f9af829c",
        "colab": {
          "base_uri": "https://localhost:8080/",
          "height": 35
        }
      },
      "source": [
        "df_train['trafficSource.campaignCode'].unique()"
      ],
      "execution_count": 0,
      "outputs": [
        {
          "output_type": "execute_result",
          "data": {
            "text/plain": [
              "array([nan, '11251kjhkvahf'], dtype=object)"
            ]
          },
          "metadata": {
            "tags": []
          },
          "execution_count": 14
        }
      ]
    },
    {
      "cell_type": "code",
      "metadata": {
        "id": "WqzZx34COTZa",
        "colab_type": "code",
        "colab": {}
      },
      "source": [
        "df_train['trafficSource.adContent'].unique()"
      ],
      "execution_count": 0,
      "outputs": []
    },
    {
      "cell_type": "code",
      "metadata": {
        "id": "1n7r8kDjuTOt",
        "colab_type": "code",
        "colab": {}
      },
      "source": [
        ""
      ],
      "execution_count": 0,
      "outputs": []
    },
    {
      "cell_type": "markdown",
      "metadata": {
        "id": "HLorMEREwDiT",
        "colab_type": "text"
      },
      "source": [
        "## Missing Value occurrence"
      ]
    },
    {
      "cell_type": "code",
      "metadata": {
        "id": "QEuiWDsowa-K",
        "colab_type": "code",
        "outputId": "fbd4c746-0a6f-4bb7-875c-a0a697c4520d",
        "colab": {
          "base_uri": "https://localhost:8080/",
          "height": 482
        }
      },
      "source": [
        "# 1.7 M rows dataset (the first one, with 5GB RAM df) consumes over 12 GB of RAM on collab, which CAUSES CRASH \n",
        "# 0.9 M rows dataset (the second one, with 1.5 GB df) consumes 8.5 GB \n",
        "sns.heatmap(df_train.isnull(), cbar=False)"
      ],
      "execution_count": 22,
      "outputs": [
        {
          "output_type": "execute_result",
          "data": {
            "text/plain": [
              "<matplotlib.axes._subplots.AxesSubplot at 0x7f75403509b0>"
            ]
          },
          "metadata": {
            "tags": []
          },
          "execution_count": 22
        },
        {
          "output_type": "display_data",
          "data": {
            "image/png": "[encoded data removed]",
            "text/plain": [
              "<Figure size 432x288 with 1 Axes>"
            ]
          },
          "metadata": {
            "tags": [],
            "needs_background": "light"
          }
        }
      ]
    },
    {
      "cell_type": "code",
      "metadata": {
        "id": "q5SCrhjl0w0e",
        "colab_type": "code",
        "outputId": "eefcb1ac-8ef9-46ef-ca7c-aec7922c365d",
        "colab": {
          "base_uri": "https://localhost:8080/",
          "height": 232
        }
      },
      "source": [
        "!pip install missingno\n",
        "import missingno as msno"
      ],
      "execution_count": 16,
      "outputs": [
        {
          "output_type": "stream",
          "text": [
            "Requirement already satisfied: missingno in /usr/local/lib/python3.6/dist-packages (0.4.2)\n",
            "Requirement already satisfied: matplotlib in /usr/local/lib/python3.6/dist-packages (from missingno) (3.2.1)\n",
            "Requirement already satisfied: scipy in /usr/local/lib/python3.6/dist-packages (from missingno) (1.4.1)\n",
            "Requirement already satisfied: seaborn in /usr/local/lib/python3.6/dist-packages (from missingno) (0.10.1)\n",
            "Requirement already satisfied: numpy in /usr/local/lib/python3.6/dist-packages (from missingno) (1.18.4)\n",
            "Requirement already satisfied: python-dateutil>=2.1 in /usr/local/lib/python3.6/dist-packages (from matplotlib->missingno) (2.8.1)\n",
            "Requirement already satisfied: kiwisolver>=1.0.1 in /usr/local/lib/python3.6/dist-packages (from matplotlib->missingno) (1.2.0)\n",
            "Requirement already satisfied: cycler>=0.10 in /usr/local/lib/python3.6/dist-packages (from matplotlib->missingno) (0.10.0)\n",
            "Requirement already satisfied: pyparsing!=2.0.4,!=2.1.2,!=2.1.6,>=2.0.1 in /usr/local/lib/python3.6/dist-packages (from matplotlib->missingno) (2.4.7)\n",
            "Requirement already satisfied: pandas>=0.22.0 in /usr/local/lib/python3.6/dist-packages (from seaborn->missingno) (1.0.3)\n",
            "Requirement already satisfied: six>=1.5 in /usr/local/lib/python3.6/dist-packages (from python-dateutil>=2.1->matplotlib->missingno) (1.12.0)\n",
            "Requirement already satisfied: pytz>=2017.2 in /usr/local/lib/python3.6/dist-packages (from pandas>=0.22.0->seaborn->missingno) (2018.9)\n"
          ],
          "name": "stdout"
        }
      ]
    },
    {
      "cell_type": "code",
      "metadata": {
        "id": "kPyFeX8r0wqx",
        "colab_type": "code",
        "outputId": "7b433fbb-3dbf-4ba3-81f0-20ef116673b5",
        "colab": {
          "base_uri": "https://localhost:8080/",
          "height": 611
        }
      },
      "source": [
        "msno.matrix(df_train)"
      ],
      "execution_count": 17,
      "outputs": [
        {
          "output_type": "execute_result",
          "data": {
            "text/plain": [
              "<matplotlib.axes._subplots.AxesSubplot at 0x7fa16b731588>"
            ]
          },
          "metadata": {
            "tags": []
          },
          "execution_count": 17
        },
        {
          "output_type": "display_data",
          "data": {
            "image/png": "[encoded data removed]",
            "text/plain": [
              "<Figure size 1800x720 with 2 Axes>"
            ]
          },
          "metadata": {
            "tags": [],
            "needs_background": "light"
          }
        }
      ]
    },
    {
      "cell_type": "code",
      "metadata": {
        "id": "GnBbw4Dz-4JD",
        "colab_type": "code",
        "outputId": "0b64613a-dbba-441b-cb44-013a04e79799",
        "colab": {
          "base_uri": "https://localhost:8080/",
          "height": 987
        }
      },
      "source": [
        "msno.heatmap(df_train)"
      ],
      "execution_count": 18,
      "outputs": [
        {
          "output_type": "execute_result",
          "data": {
            "text/plain": [
              "<matplotlib.axes._subplots.AxesSubplot at 0x7fa16b7ea518>"
            ]
          },
          "metadata": {
            "tags": []
          },
          "execution_count": 18
        },
        {
          "output_type": "display_data",
          "data": {
            "image/png": "[encoded data removed]",
            "text/plain": [
              "<Figure size 1440x864 with 2 Axes>"
            ]
          },
          "metadata": {
            "tags": [],
            "needs_background": "light"
          }
        }
      ]
    },
    {
      "cell_type": "markdown",
      "metadata": {
        "id": "y0b7mBpZAmOK",
        "colab_type": "text"
      },
      "source": [
        "# What the columns mean"
      ]
    },
    {
      "cell_type": "markdown",
      "metadata": {
        "id": "jypnD-j5AtwW",
        "colab_type": "text"
      },
      "source": [
        "Each row in the dataset is one visit to the store. \n",
        "We are predicting the log of the total revenue per user.\n",
        "Be aware that not all rows in test.csv will correspond to a row in the submission, but all unique fullVisitorIds will correspond to a row in the submission."
      ]
    },
    {
      "cell_type": "markdown",
      "metadata": {
        "id": "CMKy5hWixx_R",
        "colab_type": "text"
      },
      "source": [
        "# EDA"
      ]
    },
    {
      "cell_type": "markdown",
      "metadata": {
        "id": "NatqNwhp3ZvW",
        "colab_type": "text"
      },
      "source": [
        "### Miko's question : \"What is the most frequent channel grouping.\""
      ]
    },
    {
      "cell_type": "code",
      "metadata": {
        "id": "k-vHyRB4PNIR",
        "colab_type": "code",
        "colab": {}
      },
      "source": [
        "cont_bar_plot_data = df_train.groupby(['geoNetwork.continent', 'device.isMobile']).count()['fullVisitorId'].reset_index()\n",
        "cont_bar_plot_data.rename(columns = {'geoNetwork.continent': 'continent', 'device.isMobile': 'isMobile', 'fullVisitorId': 'total'}, inplace = True)\n",
        "#Device and location\n",
        "plt.figure(figsize=(25,5))\n",
        "sns.barplot(x=\"continent\",y = 'total', hue =\"isMobile\",  data=cont_bar_plot_data)"
      ],
      "execution_count": 0,
      "outputs": []
    },
    {
      "cell_type": "code",
      "metadata": {
        "id": "8zpe1FSwPlG8",
        "colab_type": "code",
        "colab": {}
      },
      "source": [
        "plt.figure(figsize=(25,5))\n",
        "\n",
        "sns.boxplot(x= str(df_train.date), y= \"fullVisitorId\", data=df_train)\n",
        "plt.xticks(rotation=45)"
      ],
      "execution_count": 0,
      "outputs": []
    },
    {
      "cell_type": "code",
      "metadata": {
        "id": "QW0KZXdd2ac3",
        "colab_type": "code",
        "outputId": "d52f6325-08f4-4b28-ac83-1f43006a73ef",
        "colab": {
          "base_uri": "https://localhost:8080/",
          "height": 228
        }
      },
      "source": [
        "df_train['channelGrouping']"
      ],
      "execution_count": 0,
      "outputs": [
        {
          "output_type": "execute_result",
          "data": {
            "text/plain": [
              "0          Organic Search\n",
              "1                Referral\n",
              "2                  Direct\n",
              "3          Organic Search\n",
              "4          Organic Search\n",
              "                ...      \n",
              "1708332            Social\n",
              "1708333            Social\n",
              "1708334            Social\n",
              "1708335            Social\n",
              "1708336            Social\n",
              "Name: channelGrouping, Length: 1708337, dtype: object"
            ]
          },
          "metadata": {
            "tags": []
          },
          "execution_count": 19
        }
      ]
    },
    {
      "cell_type": "code",
      "metadata": {
        "id": "ZE32pO1g3ts0",
        "colab_type": "code",
        "outputId": "ce0a35ad-4582-4e13-8a31-a692c353c107",
        "colab": {
          "base_uri": "https://localhost:8080/",
          "height": 300
        }
      },
      "source": [
        "df_train.groupby(['channelGrouping'])['visitId'].count().reset_index().sort_values('visitId', ascending=False)"
      ],
      "execution_count": 0,
      "outputs": [
        {
          "output_type": "execute_result",
          "data": {
            "text/html": [
              "<div>\n",
              "<style scoped>\n",
              "    .dataframe tbody tr th:only-of-type {\n",
              "        vertical-align: middle;\n",
              "    }\n",
              "\n",
              "    .dataframe tbody tr th {\n",
              "        vertical-align: top;\n",
              "    }\n",
              "\n",
              "    .dataframe thead th {\n",
              "        text-align: right;\n",
              "    }\n",
              "</style>\n",
              "<table border=\"1\" class=\"dataframe\">\n",
              "  <thead>\n",
              "    <tr style=\"text-align: right;\">\n",
              "      <th></th>\n",
              "      <th>channelGrouping</th>\n",
              "      <th>visitId</th>\n",
              "    </tr>\n",
              "  </thead>\n",
              "  <tbody>\n",
              "    <tr>\n",
              "      <th>4</th>\n",
              "      <td>Organic Search</td>\n",
              "      <td>738963</td>\n",
              "    </tr>\n",
              "    <tr>\n",
              "      <th>7</th>\n",
              "      <td>Social</td>\n",
              "      <td>354971</td>\n",
              "    </tr>\n",
              "    <tr>\n",
              "      <th>2</th>\n",
              "      <td>Direct</td>\n",
              "      <td>273134</td>\n",
              "    </tr>\n",
              "    <tr>\n",
              "      <th>6</th>\n",
              "      <td>Referral</td>\n",
              "      <td>211307</td>\n",
              "    </tr>\n",
              "    <tr>\n",
              "      <th>3</th>\n",
              "      <td>Display</td>\n",
              "      <td>51283</td>\n",
              "    </tr>\n",
              "    <tr>\n",
              "      <th>5</th>\n",
              "      <td>Paid Search</td>\n",
              "      <td>45627</td>\n",
              "    </tr>\n",
              "    <tr>\n",
              "      <th>1</th>\n",
              "      <td>Affiliates</td>\n",
              "      <td>32915</td>\n",
              "    </tr>\n",
              "    <tr>\n",
              "      <th>0</th>\n",
              "      <td>(Other)</td>\n",
              "      <td>137</td>\n",
              "    </tr>\n",
              "  </tbody>\n",
              "</table>\n",
              "</div>"
            ],
            "text/plain": [
              "  channelGrouping  visitId\n",
              "4  Organic Search   738963\n",
              "7          Social   354971\n",
              "2          Direct   273134\n",
              "6        Referral   211307\n",
              "3         Display    51283\n",
              "5     Paid Search    45627\n",
              "1      Affiliates    32915\n",
              "0         (Other)      137"
            ]
          },
          "metadata": {
            "tags": []
          },
          "execution_count": 16
        }
      ]
    },
    {
      "cell_type": "code",
      "metadata": {
        "id": "XVnaeFiK4wl5",
        "colab_type": "code",
        "outputId": "b5f9632b-40f7-4995-c39c-ead67702e68f",
        "colab": {
          "base_uri": "https://localhost:8080/",
          "height": 1000
        }
      },
      "source": [
        "df_train.iloc[0]"
      ],
      "execution_count": 0,
      "outputs": [
        {
          "output_type": "execute_result",
          "data": {
            "text/plain": [
              "channelGrouping                                                     Organic Search\n",
              "date                                                                      20171016\n",
              "fullVisitorId                                                  3162355547410993243\n",
              "socialEngagementType                                          Not Socially Engaged\n",
              "visitId                                                                 1508198450\n",
              "visitNumber                                                                      1\n",
              "visitStartTime                                                          1508198450\n",
              "device.browser                                                             Firefox\n",
              "device.browserVersion                                not available in demo dataset\n",
              "device.browserSize                                   not available in demo dataset\n",
              "device.operatingSystem                                                     Windows\n",
              "device.operatingSystemVersion                        not available in demo dataset\n",
              "device.isMobile                                                              False\n",
              "device.mobileDeviceBranding                          not available in demo dataset\n",
              "device.mobileDeviceModel                             not available in demo dataset\n",
              "device.mobileInputSelector                           not available in demo dataset\n",
              "device.mobileDeviceInfo                              not available in demo dataset\n",
              "device.mobileDeviceMarketingName                     not available in demo dataset\n",
              "device.flashVersion                                  not available in demo dataset\n",
              "device.language                                      not available in demo dataset\n",
              "device.screenColors                                  not available in demo dataset\n",
              "device.screenResolution                              not available in demo dataset\n",
              "device.deviceCategory                                                      desktop\n",
              "geoNetwork.continent                                                        Europe\n",
              "geoNetwork.subContinent                                             Western Europe\n",
              "geoNetwork.country                                                         Germany\n",
              "geoNetwork.region                                    not available in demo dataset\n",
              "geoNetwork.metro                                     not available in demo dataset\n",
              "geoNetwork.city                                      not available in demo dataset\n",
              "geoNetwork.cityId                                    not available in demo dataset\n",
              "geoNetwork.networkDomain                                                 (not set)\n",
              "geoNetwork.latitude                                  not available in demo dataset\n",
              "geoNetwork.longitude                                 not available in demo dataset\n",
              "geoNetwork.networkLocation                           not available in demo dataset\n",
              "totals.visits                                                                    1\n",
              "totals.hits                                                                      1\n",
              "totals.pageviews                                                                 1\n",
              "totals.bounces                                                                   1\n",
              "totals.newVisits                                                                 1\n",
              "totals.sessionQualityDim                                                         1\n",
              "totals.timeOnSite                                                              NaN\n",
              "totals.transactions                                                            NaN\n",
              "totals.transactionRevenue                                                      NaN\n",
              "totals.totalTransactionRevenue                                                 NaN\n",
              "trafficSource.campaign                                                   (not set)\n",
              "trafficSource.source                                                        google\n",
              "trafficSource.medium                                                       organic\n",
              "trafficSource.keyword                                                 water bottle\n",
              "trafficSource.adwordsClickInfo.criteriaParameters    not available in demo dataset\n",
              "trafficSource.referralPath                                                     NaN\n",
              "trafficSource.isTrueDirect                                                     NaN\n",
              "trafficSource.adContent                                                        NaN\n",
              "trafficSource.adwordsClickInfo.page                                            NaN\n",
              "trafficSource.adwordsClickInfo.slot                                            NaN\n",
              "trafficSource.adwordsClickInfo.gclId                                           NaN\n",
              "trafficSource.adwordsClickInfo.adNetworkType                                   NaN\n",
              "trafficSource.adwordsClickInfo.isVideoAd                                       NaN\n",
              "trafficSource.campaignCode                                                     NaN\n",
              "customDimension.index                                                            4\n",
              "customDimension.value                                                         EMEA\n",
              "Name: 0, dtype: object"
            ]
          },
          "metadata": {
            "tags": []
          },
          "execution_count": 17
        }
      ]
    },
    {
      "cell_type": "code",
      "metadata": {
        "id": "UcHvAcd2HSDR",
        "colab_type": "code",
        "colab": {}
      },
      "source": [
        "sns.boxplot(df_train[''])"
      ],
      "execution_count": 0,
      "outputs": []
    },
    {
      "cell_type": "code",
      "metadata": {
        "id": "tj55agXPBP1g",
        "colab_type": "code",
        "colab": {}
      },
      "source": [
        "monthly_visits = df_train[['totals.visits']].astype(int).resample('M').sum()"
      ],
      "execution_count": 0,
      "outputs": []
    }
  ]
}